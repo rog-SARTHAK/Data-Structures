{
 "cells": [
  {
   "cell_type": "markdown",
   "id": "c468c541",
   "metadata": {},
   "source": [
    "Python List"
   ]
  },
  {
   "cell_type": "code",
   "execution_count": 1,
   "id": "7c4a8f6e",
   "metadata": {},
   "outputs": [],
   "source": [
    "my_list = list(range(0,10))"
   ]
  },
  {
   "cell_type": "code",
   "execution_count": 2,
   "id": "3365843f",
   "metadata": {},
   "outputs": [],
   "source": [
    "my_list.append(10)"
   ]
  },
  {
   "cell_type": "code",
   "execution_count": 3,
   "id": "0678caf4",
   "metadata": {},
   "outputs": [
    {
     "data": {
      "text/plain": [
       "[0, 1, 2, 3, 4, 5, 6, 7, 8, 9, 10]"
      ]
     },
     "execution_count": 3,
     "metadata": {},
     "output_type": "execute_result"
    }
   ],
   "source": [
    "my_list"
   ]
  },
  {
   "cell_type": "markdown",
   "id": "3b26f715",
   "metadata": {},
   "source": [
    "Insertion"
   ]
  },
  {
   "cell_type": "code",
   "execution_count": 4,
   "id": "c6b3901e",
   "metadata": {},
   "outputs": [],
   "source": [
    "my_list.insert(2,60) #Parameters(position, value)"
   ]
  },
  {
   "cell_type": "code",
   "execution_count": 5,
   "id": "08d3738c",
   "metadata": {},
   "outputs": [
    {
     "data": {
      "text/plain": [
       "[0, 1, 60, 2, 3, 4, 5, 6, 7, 8, 9, 10]"
      ]
     },
     "execution_count": 5,
     "metadata": {},
     "output_type": "execute_result"
    }
   ],
   "source": [
    "my_list"
   ]
  },
  {
   "cell_type": "markdown",
   "id": "d26c00dd",
   "metadata": {},
   "source": [
    "pop"
   ]
  },
  {
   "cell_type": "code",
   "execution_count": 6,
   "id": "9f6885cc",
   "metadata": {},
   "outputs": [
    {
     "data": {
      "text/plain": [
       "10"
      ]
     },
     "execution_count": 6,
     "metadata": {},
     "output_type": "execute_result"
    }
   ],
   "source": [
    "my_list.pop()"
   ]
  },
  {
   "cell_type": "code",
   "execution_count": 7,
   "id": "92902a8d",
   "metadata": {},
   "outputs": [
    {
     "data": {
      "text/plain": [
       "[0, 1, 60, 2, 3, 4, 5, 6, 7, 8, 9]"
      ]
     },
     "execution_count": 7,
     "metadata": {},
     "output_type": "execute_result"
    }
   ],
   "source": [
    "my_list"
   ]
  },
  {
   "cell_type": "markdown",
   "id": "3664ab5e",
   "metadata": {},
   "source": [
    "remove"
   ]
  },
  {
   "cell_type": "code",
   "execution_count": 8,
   "id": "030ad3a2",
   "metadata": {},
   "outputs": [],
   "source": [
    "my_list.remove(60)"
   ]
  },
  {
   "cell_type": "code",
   "execution_count": 9,
   "id": "1c12d8e1",
   "metadata": {},
   "outputs": [
    {
     "data": {
      "text/plain": [
       "[0, 1, 2, 3, 4, 5, 6, 7, 8, 9]"
      ]
     },
     "execution_count": 9,
     "metadata": {},
     "output_type": "execute_result"
    }
   ],
   "source": [
    "my_list"
   ]
  },
  {
   "cell_type": "markdown",
   "id": "1eea14fb",
   "metadata": {},
   "source": [
    "Deque Data Type"
   ]
  },
  {
   "cell_type": "code",
   "execution_count": 10,
   "id": "a7de0f3d",
   "metadata": {},
   "outputs": [],
   "source": [
    "from collections import deque"
   ]
  },
  {
   "cell_type": "code",
   "execution_count": 11,
   "id": "b6ecdd97",
   "metadata": {},
   "outputs": [],
   "source": [
    "linked_list = deque() #declare emplty deque data type"
   ]
  },
  {
   "cell_type": "code",
   "execution_count": 12,
   "id": "f07d01fe",
   "metadata": {},
   "outputs": [
    {
     "data": {
      "text/plain": [
       "deque([])"
      ]
     },
     "execution_count": 12,
     "metadata": {},
     "output_type": "execute_result"
    }
   ],
   "source": [
    "linked_list"
   ]
  },
  {
   "cell_type": "code",
   "execution_count": 13,
   "id": "93e1b551",
   "metadata": {},
   "outputs": [],
   "source": [
    "linked_list.append(0)"
   ]
  },
  {
   "cell_type": "code",
   "execution_count": 14,
   "id": "b50d545b",
   "metadata": {},
   "outputs": [
    {
     "data": {
      "text/plain": [
       "deque([0])"
      ]
     },
     "execution_count": 14,
     "metadata": {},
     "output_type": "execute_result"
    }
   ],
   "source": [
    "linked_list"
   ]
  },
  {
   "cell_type": "code",
   "execution_count": 15,
   "id": "d316eb21",
   "metadata": {},
   "outputs": [
    {
     "data": {
      "text/plain": [
       "deque([1, 0])"
      ]
     },
     "execution_count": 15,
     "metadata": {},
     "output_type": "execute_result"
    }
   ],
   "source": [
    "linked_list.appendleft(1)\n",
    "linked_list"
   ]
  },
  {
   "cell_type": "code",
   "execution_count": 16,
   "id": "04434c9e",
   "metadata": {},
   "outputs": [
    {
     "data": {
      "text/plain": [
       "deque([1, 0, 2])"
      ]
     },
     "execution_count": 16,
     "metadata": {},
     "output_type": "execute_result"
    }
   ],
   "source": [
    "linked_list.append(2)\n",
    "linked_list"
   ]
  },
  {
   "cell_type": "code",
   "execution_count": 17,
   "id": "72065f40",
   "metadata": {},
   "outputs": [
    {
     "data": {
      "text/plain": [
       "1"
      ]
     },
     "execution_count": 17,
     "metadata": {},
     "output_type": "execute_result"
    }
   ],
   "source": [
    "linked_list.popleft()"
   ]
  },
  {
   "cell_type": "code",
   "execution_count": 18,
   "id": "a7fd5b4a",
   "metadata": {},
   "outputs": [
    {
     "data": {
      "text/plain": [
       "deque([0, 2])"
      ]
     },
     "execution_count": 18,
     "metadata": {},
     "output_type": "execute_result"
    }
   ],
   "source": [
    "linked_list"
   ]
  },
  {
   "cell_type": "markdown",
   "id": "5e1081b0",
   "metadata": {},
   "source": [
    "Queue - FIFO"
   ]
  },
  {
   "cell_type": "code",
   "execution_count": 19,
   "id": "4b2b7851",
   "metadata": {},
   "outputs": [],
   "source": [
    "queue = deque()"
   ]
  },
  {
   "cell_type": "code",
   "execution_count": 20,
   "id": "c4ee98f3",
   "metadata": {},
   "outputs": [
    {
     "name": "stdout",
     "output_type": "stream",
     "text": [
      "deque([0, 1, 2, 3, 4])\n"
     ]
    }
   ],
   "source": [
    "for i in range (0,5):\n",
    "    queue.append(i)\n",
    "print(queue)"
   ]
  },
  {
   "cell_type": "code",
   "execution_count": 21,
   "id": "a1b7f5be",
   "metadata": {},
   "outputs": [
    {
     "name": "stdout",
     "output_type": "stream",
     "text": [
      "deque([1, 2, 3, 4])\n",
      "deque([2, 3, 4])\n",
      "deque([3, 4])\n",
      "deque([4])\n",
      "deque([])\n"
     ]
    }
   ],
   "source": [
    "for i in range(len(queue)):\n",
    "    queue.popleft()\n",
    "    print(queue)"
   ]
  },
  {
   "cell_type": "markdown",
   "id": "24e24143",
   "metadata": {},
   "source": [
    "Stack - LIFO"
   ]
  },
  {
   "cell_type": "code",
   "execution_count": 22,
   "id": "590819ce",
   "metadata": {},
   "outputs": [],
   "source": [
    "stack = deque()"
   ]
  },
  {
   "cell_type": "code",
   "execution_count": 23,
   "id": "1e2abcb1",
   "metadata": {},
   "outputs": [
    {
     "name": "stdout",
     "output_type": "stream",
     "text": [
      "deque([0])\n",
      "deque([1, 0])\n",
      "deque([2, 1, 0])\n",
      "deque([3, 2, 1, 0])\n",
      "deque([4, 3, 2, 1, 0])\n"
     ]
    }
   ],
   "source": [
    "for i in range(0,5):\n",
    "    stack.appendleft(i)\n",
    "    print(stack)"
   ]
  },
  {
   "cell_type": "code",
   "execution_count": 25,
   "id": "c92db7f1",
   "metadata": {},
   "outputs": [
    {
     "name": "stdout",
     "output_type": "stream",
     "text": [
      "deque([3, 2, 1, 0])\n",
      "deque([2, 1, 0])\n",
      "deque([1, 0])\n",
      "deque([0])\n",
      "deque([])\n"
     ]
    }
   ],
   "source": [
    "for i in range(0,5):\n",
    "    stack.popleft()\n",
    "    print(stack)"
   ]
  },
  {
   "cell_type": "markdown",
   "id": "da0c68e9",
   "metadata": {},
   "source": [
    "To create custom singly linked list, we create a node. Each node will contain two attributes- one value and other contain reference variable pointing to next node"
   ]
  },
  {
   "cell_type": "code",
   "execution_count": 31,
   "id": "e5144ebc",
   "metadata": {},
   "outputs": [],
   "source": [
    "class Node:\n",
    "    def __init__(self,data): # Function to initialize node obj\n",
    "        self.data = data     # Assign data\n",
    "        self.next = None     # Initialize next as null\n",
    "        \n",
    "class LinkedList:\n",
    "    def __init__(self):\n",
    "        self.head = None     # Function to initialize head\n",
    "        \n",
    "    def printList(self):\n",
    "        temp = self.head\n",
    "        while temp is not None:\n",
    "            print (temp.data)\n",
    "            temp = temp.next\n",
    "            \n",
    "#insertion at beginning\n",
    "    def add(self, new):\n",
    "        new_node = Node(new)\n",
    "        new_node.next = self.head\n",
    "        self.head = new_node"
   ]
  },
  {
   "cell_type": "code",
   "execution_count": 33,
   "id": "d74c89fe",
   "metadata": {},
   "outputs": [
    {
     "name": "stdout",
     "output_type": "stream",
     "text": [
      "Alpha\n",
      "Bravo\n",
      "Charlie\n"
     ]
    }
   ],
   "source": [
    "#driver function\n",
    "\n",
    "link = LinkedList()\n",
    "\n",
    "link.head = Node(\"Alpha\")\n",
    "second = Node(\"Bravo\")\n",
    "third = Node(\"Charlie\")\n",
    "\n",
    "link.head.next = second\n",
    "second.next = third\n",
    "link.printList()"
   ]
  },
  {
   "cell_type": "code",
   "execution_count": 34,
   "id": "c709c2ee",
   "metadata": {},
   "outputs": [
    {
     "name": "stdout",
     "output_type": "stream",
     "text": [
      "Zero\n",
      "Alpha\n",
      "Bravo\n",
      "Charlie\n"
     ]
    }
   ],
   "source": [
    "link.add(\"Zero\")\n",
    "link.printList()"
   ]
  },
  {
   "cell_type": "markdown",
   "id": "5be30aa8",
   "metadata": {},
   "source": [
    "Doubly Linked List: has an additional reference attribute pointing to previous node"
   ]
  },
  {
   "cell_type": "markdown",
   "id": "3fbd75db",
   "metadata": {},
   "source": [
    "Last node of Circular Linked List points to the head instead of null"
   ]
  },
  {
   "cell_type": "markdown",
   "id": "0a26cb5d",
   "metadata": {},
   "source": [
    "# Calculate length of singly linked list iterative"
   ]
  },
  {
   "cell_type": "code",
   "execution_count": 1,
   "id": "838a6ce7",
   "metadata": {},
   "outputs": [
    {
     "name": "stdout",
     "output_type": "stream",
     "text": [
      "2\n"
     ]
    }
   ],
   "source": [
    "#linked list general format\n",
    "\n",
    "class Node:\n",
    "    def __init__(self,data): # Function to initialize node obj\n",
    "        self.data = data     # Assign data\n",
    "        self.next = None     # Initialize next as null\n",
    "\n",
    "        \n",
    "class LinkedList:\n",
    "    def __init__(self):\n",
    "        self.head = None     # Function to initialize head\n",
    "        \n",
    "    def printList(self):\n",
    "        current = self.head\n",
    "        while current:        #is not null\n",
    "            print (current.data)\n",
    "            current = current.next\n",
    "            \n",
    "# Calculate length of singly linked list iterative\n",
    "\n",
    "    def len_iterative(self):\n",
    "        count = 0\n",
    "        current = self.head\n",
    "        \n",
    "        while current:\n",
    "            count += 1\n",
    "            current = current.next\n",
    "        return count\n",
    "\n",
    "llist = LinkedList()\n",
    "llist.head = Node(\"a\")\n",
    "second = Node(\"b\")\n",
    "\n",
    "llist.head.next = second\n",
    "\n",
    "print(llist.len_iterative())"
   ]
  },
  {
   "cell_type": "code",
   "execution_count": null,
   "id": "120748b4",
   "metadata": {},
   "outputs": [],
   "source": []
  }
 ],
 "metadata": {
  "kernelspec": {
   "display_name": "Python 3",
   "language": "python",
   "name": "python3"
  },
  "language_info": {
   "codemirror_mode": {
    "name": "ipython",
    "version": 3
   },
   "file_extension": ".py",
   "mimetype": "text/x-python",
   "name": "python",
   "nbconvert_exporter": "python",
   "pygments_lexer": "ipython3",
   "version": "3.8.8"
  }
 },
 "nbformat": 4,
 "nbformat_minor": 5
}
