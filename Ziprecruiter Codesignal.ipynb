{
 "cells": [
  {
   "cell_type": "markdown",
   "id": "dc705f41",
   "metadata": {},
   "source": [
    "Given an array of integers numbers, find and return the index i of the first integer within the array that is less than its adjacent integers on both sides. Note that to satisfy these criteria, adjacent integers on both sides must exist."
   ]
  },
  {
   "cell_type": "markdown",
   "id": "0f68bbdb",
   "metadata": {},
   "source": [
    "Return -1 if none of the integers in the given array fit the criteria."
   ]
  },
  {
   "cell_type": "markdown",
   "id": "1d815d34",
   "metadata": {},
   "source": [
    "Assume that array indices are 0-based."
   ]
  },
  {
   "cell_type": "markdown",
   "id": "99f753d9",
   "metadata": {},
   "source": [
    "For numbers = [1,2,3,4], the output should be solution(numbers) = -1\n",
    "Explanation: None of the integers are less than both of its adjacent integers, so o/p is -1."
   ]
  },
  {
   "cell_type": "markdown",
   "id": "4ae04136",
   "metadata": {},
   "source": [
    "numbers = [3, 2, 1, 3, 2, 3]. The output should be solution(numbers) = 2"
   ]
  },
  {
   "cell_type": "markdown",
   "id": "20abf62d",
   "metadata": {},
   "source": [
    "numbers[2] = 1 is less than both numbers[1] = 2 and numbers[3] = 3.\n",
    "numbers[4] = 2 is also less than both numbers[3] = 3 and numbers[5] = 3.\n",
    "However numbers[2] has a lower index, so higher index 2 is answer."
   ]
  },
  {
   "cell_type": "markdown",
   "id": "c9faa5b8",
   "metadata": {},
   "source": [
    "For numbers=[1], the output should be solution(numbers) = -1"
   ]
  },
  {
   "cell_type": "code",
   "execution_count": 4,
   "id": "d3042490",
   "metadata": {},
   "outputs": [
    {
     "name": "stdout",
     "output_type": "stream",
     "text": [
      "1 2 3\n",
      "<class 'list'>\n"
     ]
    }
   ],
   "source": [
    "#def solution(numbers):\n",
    "numbers = input().split()\n",
    "print (type(numbers))"
   ]
  },
  {
   "cell_type": "code",
   "execution_count": 3,
   "id": "434b5e69",
   "metadata": {},
   "outputs": [
    {
     "name": "stdout",
     "output_type": "stream",
     "text": [
      "3 2 1 3 2 3\n",
      "2\n"
     ]
    }
   ],
   "source": [
    "def solution(numbers):\n",
    "    n = len(numbers)\n",
    "    if n == 1:\n",
    "        return -1\n",
    "    for i in range(1, n-1):\n",
    "        if numbers[i] < numbers[i-1] and numbers[i] < numbers[i+1]:\n",
    "            return i\n",
    "    return -1\n",
    "\n",
    "numbers = input().split()\n",
    "print(solution(numbers))"
   ]
  },
  {
   "cell_type": "code",
   "execution_count": 4,
   "id": "9602bff5",
   "metadata": {},
   "outputs": [
    {
     "name": "stdout",
     "output_type": "stream",
     "text": [
      "1\n",
      "-1\n"
     ]
    }
   ],
   "source": [
    "def solution(numbers):\n",
    "    n = len(numbers)\n",
    "    if n == 1:\n",
    "        return -1\n",
    "    for i in range(1, n-1):\n",
    "        if numbers[i] < numbers[i-1] and numbers[i] < numbers[i+1]:\n",
    "            return i\n",
    "    return -1\n",
    "\n",
    "numbers = input().split()\n",
    "print(solution(numbers))"
   ]
  },
  {
   "cell_type": "code",
   "execution_count": null,
   "id": "5e6addf8",
   "metadata": {},
   "outputs": [],
   "source": []
  }
 ],
 "metadata": {
  "kernelspec": {
   "display_name": "Python 3",
   "language": "python",
   "name": "python3"
  },
  "language_info": {
   "codemirror_mode": {
    "name": "ipython",
    "version": 3
   },
   "file_extension": ".py",
   "mimetype": "text/x-python",
   "name": "python",
   "nbconvert_exporter": "python",
   "pygments_lexer": "ipython3",
   "version": "3.8.8"
  }
 },
 "nbformat": 4,
 "nbformat_minor": 5
}
