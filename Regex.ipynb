{
 "cells": [
  {
   "cell_type": "code",
   "execution_count": 1,
   "id": "8689fe27",
   "metadata": {},
   "outputs": [
    {
     "name": "stdout",
     "output_type": "stream",
     "text": [
      "\tTab\n"
     ]
    }
   ],
   "source": [
    "print('\\tTab')"
   ]
  },
  {
   "cell_type": "code",
   "execution_count": 2,
   "id": "e72d2b6c",
   "metadata": {},
   "outputs": [
    {
     "name": "stdout",
     "output_type": "stream",
     "text": [
      "\\tTab\n"
     ]
    }
   ],
   "source": [
    "#raw string r\n",
    "\n",
    "print(r'\\tTab')"
   ]
  },
  {
   "cell_type": "code",
   "execution_count": 4,
   "id": "7610049f",
   "metadata": {},
   "outputs": [
    {
     "name": "stdout",
     "output_type": "stream",
     "text": [
      "<re.Match object; span=(14, 17), match='fox'>\n"
     ]
    }
   ],
   "source": [
    "#finditer function to find a pattern in a string\n",
    "\n",
    "import re\n",
    "\n",
    "sentence = \"a quick brown fox jumps over the lazy dog\"\n",
    "\n",
    "pattern = re.compile(r'fox')\n",
    "\n",
    "matches = pattern.finditer(sentence)\n",
    "\n",
    "for i in matches:\n",
    "    print(i)"
   ]
  },
  {
   "cell_type": "code",
   "execution_count": 5,
   "id": "c91baf27",
   "metadata": {},
   "outputs": [
    {
     "name": "stdout",
     "output_type": "stream",
     "text": [
      "<re.Match object; span=(2, 7), match='Quick'>\n"
     ]
    }
   ],
   "source": [
    "#Ignore case flag ignores whether string is in upper case or not\n",
    "\n",
    "import re\n",
    "\n",
    "sentence = \"a Quick brown fox jumps over the lazy dog\"\n",
    "\n",
    "pattern = re.compile(r'quick',re.I)\n",
    "\n",
    "matches = pattern.finditer(sentence)\n",
    "\n",
    "for i in matches:\n",
    "    print(i)"
   ]
  },
  {
   "cell_type": "code",
   "execution_count": 5,
   "id": "aa830458",
   "metadata": {},
   "outputs": [
    {
     "name": "stdout",
     "output_type": "stream",
     "text": [
      "fox\n"
     ]
    }
   ],
   "source": [
    "#checking with string slicing\n",
    "print(sentence[14:17])"
   ]
  },
  {
   "cell_type": "markdown",
   "id": "dab39503",
   "metadata": {},
   "source": [
    "the above pattern match is case sensitive"
   ]
  },
  {
   "cell_type": "code",
   "execution_count": 7,
   "id": "d5c9802c",
   "metadata": {},
   "outputs": [
    {
     "name": "stdout",
     "output_type": "stream",
     "text": [
      "<re.Match object; span=(6, 16), match='google.com'>\n"
     ]
    }
   ],
   "source": [
    "#Lets search a URL escaping the dot inside it\n",
    "\n",
    "sentence2 = \"check google.com\"\n",
    "\n",
    "pattern = re.compile(r'google\\.com')\n",
    "\n",
    "matches = pattern.finditer(sentence2)\n",
    "\n",
    "for i in matches:\n",
    "    print(i)"
   ]
  },
  {
   "cell_type": "code",
   "execution_count": null,
   "id": "72dae7e2",
   "metadata": {},
   "outputs": [],
   "source": [
    "Backslash includes the pattern dot"
   ]
  },
  {
   "cell_type": "markdown",
   "id": "ee6aa9b4",
   "metadata": {},
   "source": [
    "Regex expressions\n",
    "\n",
    "#Patterns\n",
    ".  - Any character except new line\n",
    "\\d - Digit (0-9)\n",
    "\\D - Not a Digit (0-9)\n",
    "\\w - Word Character (a-z, A-Z, 0-9, _ )\n",
    "\\W - Not a Word Character\n",
    "\\s - Whitespace (space, tab, newline)\n",
    "\\S - Not Whitespace (space, tab, newline)\n",
    "\n",
    "#Anchors\n",
    "\\b - word boundary\n",
    "\\B - Not a word boundary\n",
    "^ - Beginning of a String\n",
    "$ - End of String\n",
    "\n",
    "[] - Matches Characters in brackets\n",
    "() - Group\n",
    "| - Either Or"
   ]
  },
  {
   "cell_type": "code",
   "execution_count": 20,
   "id": "d75705d1",
   "metadata": {},
   "outputs": [
    {
     "name": "stdout",
     "output_type": "stream",
     "text": [
      "<re.Match object; span=(0, 13), match='(520)474-8888'>\n"
     ]
    }
   ],
   "source": [
    "phone = \"(520)474-8888\"\n",
    "\n",
    "pattern = re.compile(r'.\\d\\d\\d.\\d\\d\\d.\\d\\d\\d\\d')\n",
    "\n",
    "matches = pattern.finditer(phone)\n",
    "\n",
    "for i in matches:\n",
    "    print(i)"
   ]
  },
  {
   "cell_type": "code",
   "execution_count": 26,
   "id": "a8c132cb",
   "metadata": {},
   "outputs": [
    {
     "name": "stdout",
     "output_type": "stream",
     "text": [
      "<re.Match object; span=(0, 5), match='(520)'>\n"
     ]
    }
   ],
   "source": [
    "#Matching the exact state code within parenthesis\n",
    "\n",
    "phone = \"(520)474-8888\"\n",
    "\n",
    "pattern = re.compile(r'[(]\\d\\d\\d[)]')\n",
    "\n",
    "matches = pattern.finditer(phone)\n",
    "\n",
    "for i in matches:\n",
    "    print(i)"
   ]
  },
  {
   "cell_type": "code",
   "execution_count": 28,
   "id": "f9e1f928",
   "metadata": {},
   "outputs": [
    {
     "name": "stdout",
     "output_type": "stream",
     "text": [
      "<re.Match object; span=(0, 1), match='D'>\n",
      "<re.Match object; span=(1, 2), match='r'>\n",
      "<re.Match object; span=(2, 3), match='a'>\n",
      "<re.Match object; span=(3, 4), match='g'>\n",
      "<re.Match object; span=(4, 5), match='O'>\n",
      "<re.Match object; span=(5, 6), match='n'>\n",
      "<re.Match object; span=(6, 7), match='B'>\n",
      "<re.Match object; span=(7, 8), match='a'>\n",
      "<re.Match object; span=(8, 9), match='l'>\n",
      "<re.Match object; span=(9, 10), match='l'>\n",
      "<re.Match object; span=(10, 11), match='Z'>\n"
     ]
    }
   ],
   "source": [
    "sentence = \"DragOnBallZ99\"\n",
    "\n",
    "pattern = re.compile(r'[a-zA-Z]')\n",
    "\n",
    "matches = pattern.finditer(sentence)\n",
    "\n",
    "for i in matches:\n",
    "    print(i)"
   ]
  },
  {
   "cell_type": "code",
   "execution_count": 29,
   "id": "33296a1a",
   "metadata": {},
   "outputs": [
    {
     "name": "stdout",
     "output_type": "stream",
     "text": [
      "<re.Match object; span=(11, 12), match='9'>\n",
      "<re.Match object; span=(12, 13), match='9'>\n"
     ]
    }
   ],
   "source": [
    "#Carrat negates everything. So All lower and Upper case letters are \n",
    "#ignored\n",
    "\n",
    "sentence = \"DragOnBallZ99\"\n",
    "\n",
    "pattern = re.compile(r'[^a-zA-Z]')\n",
    "\n",
    "matches = pattern.finditer(sentence)\n",
    "\n",
    "for i in matches:\n",
    "    print(i)"
   ]
  },
  {
   "cell_type": "markdown",
   "id": "a194b4bd",
   "metadata": {},
   "source": [
    "Quantifiers:\n",
    "\n",
    "* - 0 or More\n",
    "+ - 1 or More\n",
    "{3} - Exact number\n",
    "? - 0 or One"
   ]
  },
  {
   "cell_type": "code",
   "execution_count": 3,
   "id": "f08b2894",
   "metadata": {},
   "outputs": [
    {
     "name": "stdout",
     "output_type": "stream",
     "text": [
      "<re.Match object; span=(1, 14), match='(520)474-8888'>\n",
      "<re.Match object; span=(15, 28), match='(123)525-7777'>\n"
     ]
    }
   ],
   "source": [
    "phone = '''\n",
    "(520)474-8888\n",
    "(123)525-7777\n",
    "'''\n",
    "\n",
    "pattern = re.compile(r'.\\d{3}.\\d{3}.\\d{4}')\n",
    "\n",
    "matches = pattern.finditer(phone)\n",
    "\n",
    "for i in matches:\n",
    "    print(i)"
   ]
  },
  {
   "cell_type": "markdown",
   "id": "8baf78e3",
   "metadata": {},
   "source": [
    "findall() method returns matches as list of strings"
   ]
  },
  {
   "cell_type": "code",
   "execution_count": 4,
   "id": "ddd1d70c",
   "metadata": {},
   "outputs": [
    {
     "name": "stdout",
     "output_type": "stream",
     "text": [
      "(520)474-8888\n",
      "(123)525-7777\n"
     ]
    }
   ],
   "source": [
    "phone = '''\n",
    "(520)474-8888\n",
    "(123)525-7777\n",
    "'''\n",
    "\n",
    "pattern = re.compile(r'.\\d{3}.\\d{3}.\\d{4}')\n",
    "\n",
    "matches = pattern.findall(phone)\n",
    "\n",
    "for i in matches:\n",
    "    print(i)"
   ]
  },
  {
   "cell_type": "code",
   "execution_count": 34,
   "id": "a1c92408",
   "metadata": {},
   "outputs": [
    {
     "name": "stdout",
     "output_type": "stream",
     "text": [
      "<re.Match object; span=(0, 3), match='Mr.'>\n"
     ]
    }
   ],
   "source": [
    "name = \"Mr. Smith\"\n",
    "\n",
    "pattern = re.compile(r'Mr\\.?')\n",
    "\n",
    "matches = pattern.finditer(name)\n",
    "\n",
    "for i in matches:\n",
    "    print(i)"
   ]
  },
  {
   "cell_type": "markdown",
   "id": "dc9802f4",
   "metadata": {},
   "source": [
    "the ? makes dot optional, can be Mr. or just Mr"
   ]
  },
  {
   "cell_type": "code",
   "execution_count": 37,
   "id": "912bff34",
   "metadata": {},
   "outputs": [
    {
     "name": "stdout",
     "output_type": "stream",
     "text": [
      "<re.Match object; span=(0, 4), match='Mr J'>\n"
     ]
    }
   ],
   "source": [
    "name = \"Mr James\"\n",
    "\n",
    "pattern = re.compile(r'Mr\\.?\\s[A-Z]')\n",
    "\n",
    "matches = pattern.finditer(name)\n",
    "\n",
    "for i in matches:\n",
    "    print(i)"
   ]
  },
  {
   "cell_type": "code",
   "execution_count": 39,
   "id": "16e28752",
   "metadata": {},
   "outputs": [
    {
     "name": "stdout",
     "output_type": "stream",
     "text": [
      "<re.Match object; span=(0, 8), match='Mr James'>\n"
     ]
    }
   ],
   "source": [
    "name = \"Mr James\"\n",
    "\n",
    "pattern = re.compile(r'Mr\\.?\\s[A-Z]\\w*')\n",
    "\n",
    "matches = pattern.finditer(name)\n",
    "\n",
    "for i in matches:\n",
    "    print(i)"
   ]
  },
  {
   "cell_type": "markdown",
   "id": "2f0e3231",
   "metadata": {},
   "source": [
    "w is word character and * is 0 or more"
   ]
  },
  {
   "cell_type": "code",
   "execution_count": null,
   "id": "fe1b541b",
   "metadata": {},
   "outputs": [],
   "source": [
    "Groups allows us to match several patterns. Mr or Ms or Mrs"
   ]
  },
  {
   "cell_type": "code",
   "execution_count": 42,
   "id": "c16ddf67",
   "metadata": {},
   "outputs": [
    {
     "name": "stdout",
     "output_type": "stream",
     "text": [
      "<re.Match object; span=(0, 8), match='Ms Jenny'>\n"
     ]
    }
   ],
   "source": [
    "name = \"Ms Jenny\"\n",
    "\n",
    "pattern = re.compile(r'M(r|s|rs)\\.?\\s[A-Z]\\w*')\n",
    "\n",
    "matches = pattern.finditer(name)\n",
    "\n",
    "for i in matches:\n",
    "    print(i)"
   ]
  },
  {
   "cell_type": "code",
   "execution_count": 46,
   "id": "ca67e33a",
   "metadata": {},
   "outputs": [
    {
     "name": "stdout",
     "output_type": "stream",
     "text": [
      "<re.Match object; span=(1, 24), match='SarthakHaldar@gmail.com'>\n",
      "<re.Match object; span=(25, 51), match='sarthak.dragon@arizona.edu'>\n",
      "<re.Match object; span=(52, 72), match='sarthak321@un-iv.edu'>\n"
     ]
    }
   ],
   "source": [
    "emails = '''\n",
    "SarthakHaldar@gmail.com\n",
    "sarthak.dragon@arizona.edu\n",
    "sarthak321@un-iv.edu\n",
    "'''\n",
    "\n",
    "pattern = re.compile(r'[a-zA-Z0-9.]+@[a-zA-Z-]+\\.(com|edu)')  \n",
    "# + is one or more upto @\n",
    "\n",
    "matches = pattern.finditer(emails)\n",
    "\n",
    "for i in matches:\n",
    "    print(i)"
   ]
  },
  {
   "cell_type": "code",
   "execution_count": 51,
   "id": "9a860159",
   "metadata": {},
   "outputs": [
    {
     "name": "stdout",
     "output_type": "stream",
     "text": [
      "<re.Match object; span=(1, 23), match='https://www.google.com'>\n",
      "<re.Match object; span=(24, 42), match='http://youtube.com'>\n",
      "<re.Match object; span=(43, 63), match='https://www.nasa.gov'>\n"
     ]
    }
   ],
   "source": [
    "urls = '''\n",
    "https://www.google.com\n",
    "http://youtube.com\n",
    "https://www.nasa.gov\n",
    "\n",
    "'''\n",
    "\n",
    "pattern = re.compile(r'https?://(www\\.)?(\\w+)(\\.\\w+)')  \n",
    "\n",
    "\n",
    "matches = pattern.finditer(urls)\n",
    "\n",
    "for i in matches:\n",
    "    print(i)"
   ]
  },
  {
   "cell_type": "code",
   "execution_count": 52,
   "id": "a40cb0cf",
   "metadata": {},
   "outputs": [
    {
     "name": "stdout",
     "output_type": "stream",
     "text": [
      "https://www.google.com\n",
      "http://youtube.com\n",
      "https://www.nasa.gov\n"
     ]
    }
   ],
   "source": [
    "urls = '''\n",
    "https://www.google.com\n",
    "http://youtube.com\n",
    "https://www.nasa.gov\n",
    "\n",
    "'''\n",
    "\n",
    "pattern = re.compile(r'https?://(www\\.)?(\\w+)(\\.\\w+)')  \n",
    "\n",
    "\n",
    "matches = pattern.finditer(urls)\n",
    "\n",
    "for i in matches:\n",
    "    print(i.group(0))"
   ]
  },
  {
   "cell_type": "code",
   "execution_count": 53,
   "id": "b60b5773",
   "metadata": {},
   "outputs": [
    {
     "name": "stdout",
     "output_type": "stream",
     "text": [
      "www.\n",
      "None\n",
      "www.\n"
     ]
    }
   ],
   "source": [
    "urls = '''\n",
    "https://www.google.com\n",
    "http://youtube.com\n",
    "https://www.nasa.gov\n",
    "\n",
    "'''\n",
    "\n",
    "pattern = re.compile(r'https?://(www\\.)?(\\w+)(\\.\\w+)')  \n",
    "\n",
    "\n",
    "matches = pattern.finditer(urls)\n",
    "\n",
    "for i in matches:\n",
    "    print(i.group(1))"
   ]
  },
  {
   "cell_type": "code",
   "execution_count": 54,
   "id": "5f8dcabe",
   "metadata": {},
   "outputs": [
    {
     "name": "stdout",
     "output_type": "stream",
     "text": [
      "google\n",
      "youtube\n",
      "nasa\n"
     ]
    }
   ],
   "source": [
    "urls = '''\n",
    "https://www.google.com\n",
    "http://youtube.com\n",
    "https://www.nasa.gov\n",
    "\n",
    "'''\n",
    "\n",
    "pattern = re.compile(r'https?://(www\\.)?(\\w+)(\\.\\w+)')  \n",
    "\n",
    "\n",
    "matches = pattern.finditer(urls)\n",
    "\n",
    "for i in matches:\n",
    "    print(i.group(2))"
   ]
  },
  {
   "cell_type": "code",
   "execution_count": 55,
   "id": "ce834c6d",
   "metadata": {},
   "outputs": [
    {
     "name": "stdout",
     "output_type": "stream",
     "text": [
      ".com\n",
      ".com\n",
      ".gov\n"
     ]
    }
   ],
   "source": [
    "urls = '''\n",
    "https://www.google.com\n",
    "http://youtube.com\n",
    "https://www.nasa.gov\n",
    "\n",
    "'''\n",
    "\n",
    "pattern = re.compile(r'https?://(www\\.)?(\\w+)(\\.\\w+)')  \n",
    "\n",
    "\n",
    "matches = pattern.finditer(urls)\n",
    "\n",
    "for i in matches:\n",
    "    print(i.group(3))"
   ]
  },
  {
   "cell_type": "code",
   "execution_count": 2,
   "id": "7f06cd5c",
   "metadata": {},
   "outputs": [
    {
     "name": "stdout",
     "output_type": "stream",
     "text": [
      "\n",
      "google.com\n",
      "youtube.com\n",
      "nasa.gov\n",
      "\n",
      "\n"
     ]
    }
   ],
   "source": [
    "import re\n",
    "\n",
    "urls = '''\n",
    "https://www.google.com\n",
    "http://youtube.com\n",
    "https://www.nasa.gov\n",
    "\n",
    "'''\n",
    "\n",
    "pattern = re.compile(r'https?://(www\\.)?(\\w+)(\\.\\w+)')  \n",
    "\n",
    "#performing group wise substitution\n",
    "subbed_urls = pattern.sub(r'\\2\\3',urls)\n",
    "\n",
    "print(subbed_urls)"
   ]
  },
  {
   "cell_type": "code",
   "execution_count": null,
   "id": "488d3ba7",
   "metadata": {},
   "outputs": [],
   "source": []
  }
 ],
 "metadata": {
  "kernelspec": {
   "display_name": "Python 3",
   "language": "python",
   "name": "python3"
  },
  "language_info": {
   "codemirror_mode": {
    "name": "ipython",
    "version": 3
   },
   "file_extension": ".py",
   "mimetype": "text/x-python",
   "name": "python",
   "nbconvert_exporter": "python",
   "pygments_lexer": "ipython3",
   "version": "3.8.8"
  }
 },
 "nbformat": 4,
 "nbformat_minor": 5
}
