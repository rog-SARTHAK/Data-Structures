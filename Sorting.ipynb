{
 "cells": [
  {
   "cell_type": "markdown",
   "id": "fdf76406",
   "metadata": {},
   "source": [
    "# Python built-in sort function"
   ]
  },
  {
   "cell_type": "code",
   "execution_count": 4,
   "id": "f7e60ae5",
   "metadata": {},
   "outputs": [
    {
     "data": {
      "text/plain": [
       "[2, 3, 5, 6, 7, 8]"
      ]
     },
     "execution_count": 4,
     "metadata": {},
     "output_type": "execute_result"
    }
   ],
   "source": [
    "list1 = [5, 3, 8, 6, 7, 2]\n",
    "list1.sort()\n",
    "list1"
   ]
  },
  {
   "cell_type": "code",
   "execution_count": 5,
   "id": "904a10be",
   "metadata": {},
   "outputs": [
    {
     "name": "stdout",
     "output_type": "stream",
     "text": [
      "0\n",
      "1\n",
      "2\n",
      "3\n",
      "4\n",
      "5\n"
     ]
    }
   ],
   "source": [
    "list2 = [5, 3, 8, 6, 7, 2]\n",
    "\n",
    "for i in range(len(list2)):\n",
    "    print(i)               #printing indexing format"
   ]
  },
  {
   "cell_type": "code",
   "execution_count": 6,
   "id": "32b8632d",
   "metadata": {},
   "outputs": [
    {
     "name": "stdout",
     "output_type": "stream",
     "text": [
      "0\n",
      "1\n",
      "2\n",
      "3\n",
      "4\n"
     ]
    }
   ],
   "source": [
    "list2 = [5, 3, 8, 6, 7, 2]\n",
    "\n",
    "for i in range(len(list2)-1):\n",
    "    print(i)               #printing indexing format"
   ]
  },
  {
   "cell_type": "code",
   "execution_count": 10,
   "id": "8619c7df",
   "metadata": {},
   "outputs": [
    {
     "name": "stdout",
     "output_type": "stream",
     "text": [
      "5\n",
      "4\n",
      "3\n",
      "2\n",
      "1\n"
     ]
    }
   ],
   "source": [
    "list2 = [5, 3, 8, 6, 7, 2]\n",
    "\n",
    "for i in range(len(list2)-1,0,-1):\n",
    "    print(i)               #printing indexing format\n"
   ]
  },
  {
   "cell_type": "code",
   "execution_count": 9,
   "id": "e039b5ae",
   "metadata": {},
   "outputs": [
    {
     "name": "stdout",
     "output_type": "stream",
     "text": [
      "2\n",
      "7\n",
      "6\n",
      "8\n",
      "3\n"
     ]
    }
   ],
   "source": [
    "#We will go in this order\n",
    "\n",
    "list2 = [5, 3, 8, 6, 7, 2]\n",
    "\n",
    "for i in range(len(list2)-1,0,-1):\n",
    "    print(list2[i])"
   ]
  },
  {
   "cell_type": "markdown",
   "id": "626bc6ed",
   "metadata": {},
   "source": [
    "# Bubble Sort"
   ]
  },
  {
   "cell_type": "markdown",
   "id": "097a42a7",
   "metadata": {},
   "source": [
    "We will need the concept of Swapping here. For a given list, we will compare first two elements of the list. If first one is greater than second, we swap the values. We do this step iteratively untill we get sorted list. We will need two loops, one will make sure the biggest element is at the end, and other outer loop will do the same step repeatedly. "
   ]
  },
  {
   "cell_type": "code",
   "execution_count": 11,
   "id": "8cb59f61",
   "metadata": {},
   "outputs": [
    {
     "name": "stdout",
     "output_type": "stream",
     "text": [
      "[2, 3, 5, 6, 7, 8]\n"
     ]
    }
   ],
   "source": [
    "def sort(list2):\n",
    "    for i in range(len(list2)-1,0,-1):\n",
    "        for j in range(i):\n",
    "            if list2[j] > list2[j+1]:   # if current is greater than next\n",
    "                temp = list2[j]         #swap code\n",
    "                list2[j]= list2[j+1]\n",
    "                list2[j+1]= temp\n",
    "\n",
    "#Driver function\n",
    "\n",
    "list2 = [5, 3, 8, 6, 7, 2]\n",
    "sort(list2)\n",
    "print(list2)"
   ]
  },
  {
   "cell_type": "markdown",
   "id": "be543793",
   "metadata": {},
   "source": [
    "# Selection Sort"
   ]
  },
  {
   "cell_type": "markdown",
   "id": "4bfb6d95",
   "metadata": {},
   "source": [
    "[5, 3, 8, 6, 7, 2]\n",
    "\n",
    "Swapping consumes lot of processing power in case of Bubble sort. So here in Selection sort we will first find the min (present case) value or max value of list starting from first to last element. Swapping is not done multiple times is the advantage of Selection sort."
   ]
  },
  {
   "cell_type": "code",
   "execution_count": 12,
   "id": "d95be708",
   "metadata": {},
   "outputs": [
    {
     "name": "stdout",
     "output_type": "stream",
     "text": [
      "[2, 3, 5, 6, 7, 8]\n"
     ]
    }
   ],
   "source": [
    "def sort(list2):\n",
    "    \n",
    "    for i in range(5):\n",
    "        minpos = i  # When i starts with 0, min pos = 0\n",
    "        for j in range(i,6):\n",
    "            if list2[j] < list2[minpos]:\n",
    "                minpos = j\n",
    "                \n",
    "                \n",
    "        temp = list2[i]\n",
    "        list2[i] = list2[minpos]\n",
    "        list2[minpos] = temp\n",
    "\n",
    "#Driver function\n",
    "\n",
    "list2 = [5, 3, 8, 6, 7, 2]\n",
    "sort(list2)\n",
    "print(list2)"
   ]
  },
  {
   "cell_type": "code",
   "execution_count": null,
   "id": "8938708a",
   "metadata": {},
   "outputs": [],
   "source": []
  }
 ],
 "metadata": {
  "kernelspec": {
   "display_name": "Python 3",
   "language": "python",
   "name": "python3"
  },
  "language_info": {
   "codemirror_mode": {
    "name": "ipython",
    "version": 3
   },
   "file_extension": ".py",
   "mimetype": "text/x-python",
   "name": "python",
   "nbconvert_exporter": "python",
   "pygments_lexer": "ipython3",
   "version": "3.8.8"
  }
 },
 "nbformat": 4,
 "nbformat_minor": 5
}
