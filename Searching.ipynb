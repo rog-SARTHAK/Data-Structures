{
 "cells": [
  {
   "cell_type": "markdown",
   "id": "b53fbb3f",
   "metadata": {},
   "source": [
    "# Linear Search"
   ]
  },
  {
   "cell_type": "code",
   "execution_count": 8,
   "id": "ca683e9d",
   "metadata": {},
   "outputs": [
    {
     "name": "stdout",
     "output_type": "stream",
     "text": [
      "found at  3\n"
     ]
    }
   ],
   "source": [
    "pos = -1\n",
    "\n",
    "\n",
    "def search(list1, s):\n",
    "    \n",
    "    for i in range(len(list1)):\n",
    "        if list1[i] == s:\n",
    "            globals()['pos'] = i\n",
    "            return True\n",
    "        \n",
    "    return False\n",
    "\n",
    "\n",
    "\n",
    "\n",
    "\n",
    "list1 = [4,6,9,7,8]\n",
    "s = 9\n",
    "\n",
    "\n",
    "if search(list1, s):\n",
    "    print(\"found at \", pos+1)\n",
    "    \n",
    "else:\n",
    "    print(\"not found\")"
   ]
  },
  {
   "cell_type": "markdown",
   "id": "e309c323",
   "metadata": {},
   "source": [
    "# Binary Search"
   ]
  },
  {
   "cell_type": "markdown",
   "id": "8e594b45",
   "metadata": {},
   "source": [
    "List has to be sorted\n",
    "\n",
    "Suppose there is a sorted list [4,6,7,8,9] \n",
    "First we index first and last element of list namely lower and upper\n",
    "Then index the mid element which is (lower + upper)/2\n",
    "Check search element is mid value or not\n",
    "Check serch element is smaller or bigger than mid value\n",
    "if value is smaller than mid, change upper bound; mid becomes upper bound\n",
    "if value is greater than mid, change lower bound; mid becomes lower bound"
   ]
  },
  {
   "cell_type": "code",
   "execution_count": 8,
   "id": "eb50405b",
   "metadata": {},
   "outputs": [
    {
     "name": "stdout",
     "output_type": "stream",
     "text": [
      "found at  4\n"
     ]
    }
   ],
   "source": [
    "pos = -1\n",
    "\n",
    "\n",
    "def search(list1, s):\n",
    "    \n",
    "    l = 0\n",
    "    u = len(list1)-1\n",
    "    \n",
    "    while l < u:\n",
    "        mid = (l + u)//2  #integer division\n",
    "        \n",
    "        if list1[mid] == s:\n",
    "            globals()['pos'] = mid\n",
    "            return True\n",
    "        \n",
    "        else:\n",
    "            if list1[mid] < s:\n",
    "                l = mid+1;        # update or overwrite mid value\n",
    "            else:\n",
    "                u = mid-1;\n",
    "\n",
    "\n",
    "\n",
    "\n",
    "list1 = [4,6,7,8,9]\n",
    "s = 8\n",
    "\n",
    "\n",
    "if search(list1, s):\n",
    "    print(\"found at \", pos+1)\n",
    "    \n",
    "else:\n",
    "    print(\"not found\")"
   ]
  },
  {
   "cell_type": "code",
   "execution_count": null,
   "id": "a27d834f",
   "metadata": {},
   "outputs": [],
   "source": []
  }
 ],
 "metadata": {
  "kernelspec": {
   "display_name": "Python 3",
   "language": "python",
   "name": "python3"
  },
  "language_info": {
   "codemirror_mode": {
    "name": "ipython",
    "version": 3
   },
   "file_extension": ".py",
   "mimetype": "text/x-python",
   "name": "python",
   "nbconvert_exporter": "python",
   "pygments_lexer": "ipython3",
   "version": "3.8.8"
  }
 },
 "nbformat": 4,
 "nbformat_minor": 5
}
