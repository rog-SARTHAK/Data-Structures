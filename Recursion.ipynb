{
 "cells": [
  {
   "cell_type": "markdown",
   "id": "5b3f0ff3",
   "metadata": {},
   "source": [
    "Recursion - Function Calling Itself"
   ]
  },
  {
   "cell_type": "code",
   "execution_count": 1,
   "id": "fb017db4",
   "metadata": {},
   "outputs": [],
   "source": [
    "def greet():\n",
    "    print ('hello')\n",
    "    greet()\n",
    "    \n",
    "#greet()\n",
    "\n",
    "#Print infinite times barred by a limit"
   ]
  },
  {
   "cell_type": "markdown",
   "id": "f69cd973",
   "metadata": {},
   "source": [
    "Counting infinite loop"
   ]
  },
  {
   "cell_type": "code",
   "execution_count": 3,
   "id": "5a68736a",
   "metadata": {},
   "outputs": [
    {
     "name": "stdout",
     "output_type": "stream",
     "text": [
      "3000\n"
     ]
    }
   ],
   "source": [
    "import sys\n",
    "print (sys.getrecursionlimit())\n",
    "\n",
    "def greet():\n",
    "    print ('hello')\n",
    "    greet()"
   ]
  },
  {
   "cell_type": "markdown",
   "id": "be98da00",
   "metadata": {},
   "source": [
    "Change Recursion Limit"
   ]
  },
  {
   "cell_type": "code",
   "execution_count": 4,
   "id": "e25a941f",
   "metadata": {},
   "outputs": [
    {
     "name": "stdout",
     "output_type": "stream",
     "text": [
      "3500\n"
     ]
    }
   ],
   "source": [
    "import sys\n",
    "sys.setrecursionlimit(3500)\n",
    "print (sys.getrecursionlimit())\n",
    "\n",
    "def greet():\n",
    "    print ('hello')\n",
    "    greet()"
   ]
  },
  {
   "cell_type": "markdown",
   "id": "117e671d",
   "metadata": {},
   "source": [
    "Factorial by using recursion"
   ]
  },
  {
   "cell_type": "code",
   "execution_count": 2,
   "id": "6e44ff9b",
   "metadata": {},
   "outputs": [
    {
     "name": "stdout",
     "output_type": "stream",
     "text": [
      "120\n"
     ]
    }
   ],
   "source": [
    "def fact(n):\n",
    "    \n",
    "    if n==0:\n",
    "        return 1\n",
    "    \n",
    "    return n*fact(n-1)\n",
    "\n",
    "result = fact(5)\n",
    "print(result)"
   ]
  },
  {
   "cell_type": "markdown",
   "id": "a7e36794",
   "metadata": {},
   "source": [
    "Fibonacci Series"
   ]
  },
  {
   "cell_type": "code",
   "execution_count": 4,
   "id": "af4b4912",
   "metadata": {},
   "outputs": [
    {
     "name": "stdout",
     "output_type": "stream",
     "text": [
      "1 : 1\n",
      "2 : 1\n",
      "3 : 2\n",
      "4 : 3\n",
      "5 : 5\n",
      "6 : 8\n",
      "7 : 13\n",
      "8 : 21\n",
      "9 : 34\n",
      "10 : 55\n"
     ]
    }
   ],
   "source": [
    "def fib(n):\n",
    "    if n==1:\n",
    "        return 1\n",
    "    elif n==2:\n",
    "        return 1\n",
    "    elif n>2:\n",
    "        return fib(n-1)+fib(n-2)\n",
    "    \n",
    "for n in range (1,11):\n",
    "    print(n, \":\", fib(n))"
   ]
  },
  {
   "cell_type": "code",
   "execution_count": null,
   "id": "8272cc4e",
   "metadata": {},
   "outputs": [],
   "source": [
    "To prevent slowing down performing iterative steps, \n",
    "we can store catche called memoization"
   ]
  },
  {
   "cell_type": "code",
   "execution_count": 5,
   "id": "f1c22181",
   "metadata": {},
   "outputs": [
    {
     "name": "stdout",
     "output_type": "stream",
     "text": [
      "1 : 1\n",
      "2 : 1\n",
      "3 : 2\n",
      "4 : 3\n",
      "5 : 5\n",
      "6 : 8\n",
      "7 : 13\n",
      "8 : 21\n",
      "9 : 34\n",
      "10 : 55\n"
     ]
    }
   ],
   "source": [
    "fib_dict = {}\n",
    "\n",
    "def fib(n):\n",
    "    if n in fib_dict: #If we have cached the value then return it\n",
    "        return fib_dict[n]\n",
    "    \n",
    "    if n==1:\n",
    "        value = 1\n",
    "    elif n==2:\n",
    "        value = 1\n",
    "    elif n>2:\n",
    "        value = fib(n-1)+fib(n-2)\n",
    "    \n",
    "    fib_dict[n] = value\n",
    "    return value\n",
    "    \n",
    "for n in range (1,11):\n",
    "    print(n, \":\", fib(n))"
   ]
  },
  {
   "cell_type": "markdown",
   "id": "47d97b69",
   "metadata": {},
   "source": [
    "One liner mamoization - Least Recently Used cache"
   ]
  },
  {
   "cell_type": "code",
   "execution_count": 6,
   "id": "5fd124a9",
   "metadata": {},
   "outputs": [
    {
     "name": "stdout",
     "output_type": "stream",
     "text": [
      "1 : 1\n",
      "2 : 1\n",
      "3 : 2\n",
      "4 : 3\n",
      "5 : 5\n",
      "6 : 8\n",
      "7 : 13\n",
      "8 : 21\n",
      "9 : 34\n",
      "10 : 55\n"
     ]
    }
   ],
   "source": [
    "from functools import lru_cache\n",
    "\n",
    "@lru_cache(maxsize = 1000)\n",
    "def fib(n):\n",
    "    if n==1:\n",
    "        return 1\n",
    "    elif n==2:\n",
    "        return 1\n",
    "    elif n>2:\n",
    "        return fib(n-1)+fib(n-2)\n",
    "    \n",
    "for n in range (1,11):\n",
    "    print(n, \":\", fib(n))"
   ]
  },
  {
   "cell_type": "code",
   "execution_count": 8,
   "id": "f1125fa1",
   "metadata": {},
   "outputs": [
    {
     "ename": "ValueError",
     "evalue": "n must be positive int",
     "output_type": "error",
     "traceback": [
      "\u001b[1;31m---------------------------------------------------------------------------\u001b[0m",
      "\u001b[1;31mValueError\u001b[0m                                Traceback (most recent call last)",
      "\u001b[1;32m<ipython-input-8-266b643504f1>\u001b[0m in \u001b[0;36m<module>\u001b[1;34m\u001b[0m\n\u001b[0;32m     18\u001b[0m         \u001b[1;32mreturn\u001b[0m \u001b[0mfib\u001b[0m\u001b[1;33m(\u001b[0m\u001b[0mn\u001b[0m\u001b[1;33m-\u001b[0m\u001b[1;36m1\u001b[0m\u001b[1;33m)\u001b[0m\u001b[1;33m+\u001b[0m\u001b[0mfib\u001b[0m\u001b[1;33m(\u001b[0m\u001b[0mn\u001b[0m\u001b[1;33m-\u001b[0m\u001b[1;36m2\u001b[0m\u001b[1;33m)\u001b[0m\u001b[1;33m\u001b[0m\u001b[1;33m\u001b[0m\u001b[0m\n\u001b[0;32m     19\u001b[0m \u001b[1;33m\u001b[0m\u001b[0m\n\u001b[1;32m---> 20\u001b[1;33m \u001b[0mprint\u001b[0m \u001b[1;33m(\u001b[0m\u001b[0mfib\u001b[0m\u001b[1;33m(\u001b[0m\u001b[1;33m-\u001b[0m\u001b[1;36m1\u001b[0m\u001b[1;33m)\u001b[0m\u001b[1;33m)\u001b[0m\u001b[1;33m\u001b[0m\u001b[1;33m\u001b[0m\u001b[0m\n\u001b[0m",
      "\u001b[1;32m<ipython-input-8-266b643504f1>\u001b[0m in \u001b[0;36mfib\u001b[1;34m(n)\u001b[0m\n\u001b[0;32m      8\u001b[0m \u001b[1;33m\u001b[0m\u001b[0m\n\u001b[0;32m      9\u001b[0m     \u001b[1;32mif\u001b[0m \u001b[0mn\u001b[0m\u001b[1;33m<\u001b[0m\u001b[1;36m1\u001b[0m\u001b[1;33m:\u001b[0m\u001b[1;33m\u001b[0m\u001b[1;33m\u001b[0m\u001b[0m\n\u001b[1;32m---> 10\u001b[1;33m         \u001b[1;32mraise\u001b[0m \u001b[0mValueError\u001b[0m \u001b[1;33m(\u001b[0m\u001b[1;34m\"n must be positive int\"\u001b[0m\u001b[1;33m)\u001b[0m\u001b[1;31m# for -ve vals\u001b[0m\u001b[1;33m\u001b[0m\u001b[1;33m\u001b[0m\u001b[0m\n\u001b[0m\u001b[0;32m     11\u001b[0m \u001b[1;33m\u001b[0m\u001b[0m\n\u001b[0;32m     12\u001b[0m \u001b[1;33m\u001b[0m\u001b[0m\n",
      "\u001b[1;31mValueError\u001b[0m: n must be positive int"
     ]
    }
   ],
   "source": [
    "from functools import lru_cache\n",
    "\n",
    "@lru_cache(maxsize = 1000)\n",
    "def fib(n):\n",
    "    \n",
    "    if type(n) != int:\n",
    "        raise TypeError (\"n should be positive\") # for float\n",
    "        \n",
    "    if n<1:\n",
    "        raise ValueError (\"n must be positive int\")# for -ve vals\n",
    "    \n",
    "    \n",
    "    if n==1:\n",
    "        return 1\n",
    "    elif n==2:\n",
    "        return 1\n",
    "    elif n>2:\n",
    "        return fib(n-1)+fib(n-2)\n",
    "    \n",
    "print (fib(-1))"
   ]
  },
  {
   "cell_type": "code",
   "execution_count": null,
   "id": "38f9343d",
   "metadata": {},
   "outputs": [],
   "source": []
  }
 ],
 "metadata": {
  "kernelspec": {
   "display_name": "Python 3",
   "language": "python",
   "name": "python3"
  },
  "language_info": {
   "codemirror_mode": {
    "name": "ipython",
    "version": 3
   },
   "file_extension": ".py",
   "mimetype": "text/x-python",
   "name": "python",
   "nbconvert_exporter": "python",
   "pygments_lexer": "ipython3",
   "version": "3.8.8"
  }
 },
 "nbformat": 4,
 "nbformat_minor": 5
}
