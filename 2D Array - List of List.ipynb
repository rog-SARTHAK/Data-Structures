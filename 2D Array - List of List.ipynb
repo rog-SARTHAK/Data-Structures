{
 "cells": [
  {
   "cell_type": "code",
   "execution_count": 2,
   "id": "7a6fae4b",
   "metadata": {},
   "outputs": [
    {
     "data": {
      "text/plain": [
       "[1, 2, 3, 4]"
      ]
     },
     "execution_count": 2,
     "metadata": {},
     "output_type": "execute_result"
    }
   ],
   "source": [
    "#initializing\n",
    "\n",
    "arr = [[1,2,3,4],\n",
    "       [5,6,7,8]]\n",
    "\n",
    "#retrieving\n",
    "\n",
    "arr[0]   #returns 1st row"
   ]
  },
  {
   "cell_type": "code",
   "execution_count": 3,
   "id": "66798b38",
   "metadata": {},
   "outputs": [
    {
     "data": {
      "text/plain": [
       "[5, 6, 7, 8]"
      ]
     },
     "execution_count": 3,
     "metadata": {},
     "output_type": "execute_result"
    }
   ],
   "source": [
    "arr[1]    #returns 2nd row"
   ]
  },
  {
   "cell_type": "code",
   "execution_count": 4,
   "id": "31a2255e",
   "metadata": {},
   "outputs": [
    {
     "data": {
      "text/plain": [
       "7"
      ]
     },
     "execution_count": 4,
     "metadata": {},
     "output_type": "execute_result"
    }
   ],
   "source": [
    "arr[1][2]   # returns 2nd row 3rd element"
   ]
  },
  {
   "cell_type": "code",
   "execution_count": 5,
   "id": "eaef2b27",
   "metadata": {},
   "outputs": [
    {
     "name": "stdout",
     "output_type": "stream",
     "text": [
      "1\n",
      "2\n",
      "3\n",
      "4\n",
      "5\n",
      "6\n",
      "7\n",
      "8\n"
     ]
    }
   ],
   "source": [
    "#iteration method 1\n",
    "\n",
    "arr = [[1,2,3,4],\n",
    "       [5,6,7,8]]\n",
    "\n",
    "for row in arr:\n",
    "    for item in row:\n",
    "        print(item)"
   ]
  },
  {
   "cell_type": "code",
   "execution_count": 7,
   "id": "6689325b",
   "metadata": {},
   "outputs": [
    {
     "name": "stdout",
     "output_type": "stream",
     "text": [
      "1\n",
      "2\n",
      "3\n",
      "4\n",
      "5\n",
      "6\n",
      "7\n",
      "8\n"
     ]
    }
   ],
   "source": [
    "#iteration method 2\n",
    "\n",
    "arr = [[1,2,3,4],\n",
    "       [5,6,7,8]]\n",
    "\n",
    "for i in range(len(arr)):\n",
    "    for j in range(len(arr[i])):\n",
    "        print(arr[i][j])"
   ]
  },
  {
   "cell_type": "markdown",
   "id": "27fb3103",
   "metadata": {},
   "source": [
    "# Given a square matrix 2D Array, return the sum of diagonals of the matrix"
   ]
  },
  {
   "cell_type": "code",
   "execution_count": 14,
   "id": "ecb182d8",
   "metadata": {},
   "outputs": [
    {
     "data": {
      "text/plain": [
       "2"
      ]
     },
     "execution_count": 14,
     "metadata": {},
     "output_type": "execute_result"
    }
   ],
   "source": [
    "def diagonally(arr):\n",
    "    total = 0\n",
    "    \n",
    "    for i in range(len(arr)):\n",
    "        total += arr[i][i]\n",
    "        \n",
    "    return total\n",
    "\n",
    "#main function\n",
    "    \n",
    "diagonally([[1,0],\n",
    "            [0,1]])\n",
    "\n"
   ]
  },
  {
   "cell_type": "code",
   "execution_count": null,
   "id": "40d03d37",
   "metadata": {},
   "outputs": [],
   "source": []
  }
 ],
 "metadata": {
  "kernelspec": {
   "display_name": "Python 3",
   "language": "python",
   "name": "python3"
  },
  "language_info": {
   "codemirror_mode": {
    "name": "ipython",
    "version": 3
   },
   "file_extension": ".py",
   "mimetype": "text/x-python",
   "name": "python",
   "nbconvert_exporter": "python",
   "pygments_lexer": "ipython3",
   "version": "3.8.8"
  }
 },
 "nbformat": 4,
 "nbformat_minor": 5
}
