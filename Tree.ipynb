{
 "cells": [
  {
   "cell_type": "markdown",
   "id": "8a82653f",
   "metadata": {},
   "source": [
    "# General Tree"
   ]
  },
  {
   "cell_type": "code",
   "execution_count": 4,
   "id": "4bb2dd34",
   "metadata": {},
   "outputs": [
    {
     "name": "stdout",
     "output_type": "stream",
     "text": [
      "Electronics\n",
      "Laptop\n",
      "Mac\n",
      "Surface\n",
      "Thinkpad\n",
      "Cell Phone\n",
      "iPhone\n",
      "Pixel\n",
      "Vivo\n",
      "TV\n",
      "Samsung\n",
      "LG\n"
     ]
    }
   ],
   "source": [
    "class TreeNode:\n",
    "    def __init__(self, data):\n",
    "        self.data = data\n",
    "        self.children = []\n",
    "        self.parent = None\n",
    "        \n",
    "    def add_child(self, child):\n",
    "        child.parent = self    #child is instance of TreeNode class\n",
    "                               #it will have a parent property\n",
    "                               # the parent property is set to self\n",
    "                               \n",
    "        self.children.append(child)  #self becomes parent of child\n",
    "    \n",
    "    def print_tree(self):\n",
    "        print(self.data) \n",
    "        if len(self.children) > 0:\n",
    "            for child in self.children:\n",
    "                child.print_tree() #recursion\n",
    "            \n",
    "def build_product_tree():\n",
    "    root = TreeNode(\"Electronics\") #Electronics will be stored in self.data\n",
    "                                    #of root node\n",
    "    #first category laptop\n",
    "    laptop = TreeNode(\"Laptop\")\n",
    "    laptop.add_child(TreeNode(\"Mac\"))\n",
    "    laptop.add_child(TreeNode(\"Surface\"))\n",
    "    laptop.add_child(TreeNode(\"Thinkpad\"))\n",
    "    \n",
    "    cellphone = TreeNode(\"Cell Phone\")\n",
    "    cellphone.add_child(TreeNode(\"iPhone\"))\n",
    "    cellphone.add_child(TreeNode(\"Pixel\"))\n",
    "    cellphone.add_child(TreeNode(\"Vivo\"))\n",
    "\n",
    "    tv = TreeNode(\"TV\")\n",
    "    tv.add_child(TreeNode(\"Samsung\"))\n",
    "    tv.add_child(TreeNode(\"LG\"))\n",
    "    \n",
    "    #we will add subcategory to root category\n",
    "    root.add_child(laptop)\n",
    "    root.add_child(cellphone)\n",
    "    root.add_child(tv)\n",
    "    \n",
    "    return root\n",
    "    \n",
    "if __name__ == '__main__':\n",
    "    root = build_product_tree()\n",
    "    root.print_tree()\n",
    "    pass"
   ]
  },
  {
   "cell_type": "markdown",
   "id": "cd009e52",
   "metadata": {},
   "source": [
    "Now we work for indentation\n",
    "\n",
    "If node is at level 0, no indentation\n",
    "If node is at level 1, append 2 spaces\n",
    "If node is at level 2, append 4 spaces"
   ]
  },
  {
   "cell_type": "code",
   "execution_count": 7,
   "id": "e108840c",
   "metadata": {},
   "outputs": [
    {
     "name": "stdout",
     "output_type": "stream",
     "text": [
      "Electronics\n",
      "   |__Laptop\n",
      "      |__Mac\n",
      "      |__Surface\n",
      "      |__Thinkpad\n",
      "   |__Cell Phone\n",
      "      |__iPhone\n",
      "      |__Pixel\n",
      "      |__Vivo\n",
      "   |__TV\n",
      "      |__Samsung\n",
      "      |__LG\n"
     ]
    }
   ],
   "source": [
    "class TreeNode:\n",
    "    def __init__(self, data):\n",
    "        self.data = data\n",
    "        self.children = []\n",
    "        self.parent = None\n",
    "        \n",
    "    def add_child(self, child):\n",
    "        child.parent = self    #child is instance of TreeNode class\n",
    "                               #it will have a parent property\n",
    "                               # the parent property is set to self\n",
    "                               \n",
    "        self.children.append(child)  #self becomes parent of child\n",
    "    \n",
    "    def get_level(self):\n",
    "        level = 0\n",
    "        p = self.parent\n",
    "        while p:\n",
    "            level += 1\n",
    "            p = p.parent #pointer p checks for patent node\n",
    "            \n",
    "        return level\n",
    "    \n",
    "    \n",
    "    def print_tree(self):\n",
    "        spaces = ' ' * self.get_level() * 3 \n",
    "        prefix = spaces + \"|__\" if self.parent else \"\" #for root we dont want\n",
    "        print(prefix + self.data) \n",
    "        if len(self.children) > 0:\n",
    "            for child in self.children:\n",
    "                child.print_tree() #recursion\n",
    "            \n",
    "def build_product_tree():\n",
    "    root = TreeNode(\"Electronics\") #Electronics will be stored in self.data\n",
    "                                    #of root node\n",
    "    #first category laptop\n",
    "    laptop = TreeNode(\"Laptop\")\n",
    "    laptop.add_child(TreeNode(\"Mac\"))\n",
    "    laptop.add_child(TreeNode(\"Surface\"))\n",
    "    laptop.add_child(TreeNode(\"Thinkpad\"))\n",
    "    \n",
    "    cellphone = TreeNode(\"Cell Phone\")\n",
    "    cellphone.add_child(TreeNode(\"iPhone\"))\n",
    "    cellphone.add_child(TreeNode(\"Pixel\"))\n",
    "    cellphone.add_child(TreeNode(\"Vivo\"))\n",
    "\n",
    "    tv = TreeNode(\"TV\")\n",
    "    tv.add_child(TreeNode(\"Samsung\"))\n",
    "    tv.add_child(TreeNode(\"LG\"))\n",
    "    \n",
    "    #we will add subcategory to root category\n",
    "    root.add_child(laptop)\n",
    "    root.add_child(cellphone)\n",
    "    root.add_child(tv)\n",
    "    \n",
    "    return root\n",
    "    \n",
    "if __name__ == '__main__':\n",
    "    root = build_product_tree()\n",
    "#    print(root.get_level())\n",
    "    root.print_tree()\n",
    "    pass"
   ]
  },
  {
   "cell_type": "code",
   "execution_count": null,
   "id": "cb196732",
   "metadata": {},
   "outputs": [],
   "source": []
  }
 ],
 "metadata": {
  "kernelspec": {
   "display_name": "Python 3",
   "language": "python",
   "name": "python3"
  },
  "language_info": {
   "codemirror_mode": {
    "name": "ipython",
    "version": 3
   },
   "file_extension": ".py",
   "mimetype": "text/x-python",
   "name": "python",
   "nbconvert_exporter": "python",
   "pygments_lexer": "ipython3",
   "version": "3.8.8"
  }
 },
 "nbformat": 4,
 "nbformat_minor": 5
}
