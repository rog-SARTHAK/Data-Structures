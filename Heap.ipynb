{
 "cells": [
  {
   "cell_type": "markdown",
   "id": "a1de86b4",
   "metadata": {},
   "source": [
    "Heap - Is an implementation of priority queue"
   ]
  },
  {
   "cell_type": "code",
   "execution_count": null,
   "id": "f9808804",
   "metadata": {},
   "outputs": [],
   "source": [
    "Min heap - lower number has higher priority\n",
    "4\n",
    "/ \\\n",
    "10  5\n",
    "/ \\  / \\\n",
    "15 11 6 5"
   ]
  },
  {
   "cell_type": "code",
   "execution_count": null,
   "id": "5e662045",
   "metadata": {},
   "outputs": [],
   "source": [
    "Max heap\n",
    " 10\n",
    " / \\\n",
    "8   10"
   ]
  },
  {
   "cell_type": "code",
   "execution_count": 1,
   "id": "058525f4",
   "metadata": {},
   "outputs": [
    {
     "name": "stdout",
     "output_type": "stream",
     "text": [
      "[1, 1, 2, 2, 3, 10, 17, 20, 43, 44, 65]\n"
     ]
    }
   ],
   "source": [
    "import heapq\n",
    "\n",
    "lst = [10, 20, 43, 1, 2, 65, 17, 44, 2, 3, 1]\n",
    "\n",
    "print(sorted(lst))"
   ]
  },
  {
   "cell_type": "code",
   "execution_count": 2,
   "id": "16deb541",
   "metadata": {},
   "outputs": [
    {
     "name": "stdout",
     "output_type": "stream",
     "text": [
      "[1, 1, 17, 2, 2, 65, 43, 44, 10, 3, 20]\n"
     ]
    }
   ],
   "source": [
    "import heapq\n",
    "\n",
    "lst = [10, 20, 43, 1, 2, 65, 17, 44, 2, 3, 1]\n",
    "\n",
    "heapq.heapify(lst) #returns min heap\n",
    "\n",
    "print(lst)"
   ]
  },
  {
   "cell_type": "markdown",
   "id": "59fc1701",
   "metadata": {},
   "source": [
    "If root node is at i index, first child will be at index 2*i+1 and the second child will be at index 2*i+2 and parent node will be at (i-1)/2"
   ]
  },
  {
   "cell_type": "code",
   "execution_count": null,
   "id": "f5f1845b",
   "metadata": {},
   "outputs": [],
   "source": [
    "  1\n",
    " / \\\n",
    "1   17\n",
    "/\\  / \\\n",
    "2 2 65 43\n",
    "\n"
   ]
  },
  {
   "cell_type": "code",
   "execution_count": 3,
   "id": "58507e21",
   "metadata": {},
   "outputs": [
    {
     "name": "stdout",
     "output_type": "stream",
     "text": [
      "1\n"
     ]
    }
   ],
   "source": [
    "#returns element with highest priority and lowest value\n",
    "\n",
    "print(heapq.heappop(lst))"
   ]
  },
  {
   "cell_type": "code",
   "execution_count": 4,
   "id": "aa1cfaf3",
   "metadata": {},
   "outputs": [
    {
     "name": "stdout",
     "output_type": "stream",
     "text": [
      "[1, 2, 17, 2, 3, 19, 43, 44, 10, 20, 4, 65, 21]\n"
     ]
    }
   ],
   "source": [
    "heapq.heappush(lst, 4)\n",
    "heapq.heappush(lst, 19)\n",
    "heapq.heappush(lst, 21)\n",
    "\n",
    "print(lst)"
   ]
  },
  {
   "cell_type": "code",
   "execution_count": null,
   "id": "7e9bd214",
   "metadata": {},
   "outputs": [],
   "source": []
  }
 ],
 "metadata": {
  "kernelspec": {
   "display_name": "Python 3",
   "language": "python",
   "name": "python3"
  },
  "language_info": {
   "codemirror_mode": {
    "name": "ipython",
    "version": 3
   },
   "file_extension": ".py",
   "mimetype": "text/x-python",
   "name": "python",
   "nbconvert_exporter": "python",
   "pygments_lexer": "ipython3",
   "version": "3.8.8"
  }
 },
 "nbformat": 4,
 "nbformat_minor": 5
}
