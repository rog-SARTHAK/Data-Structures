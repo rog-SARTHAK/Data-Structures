{
 "cells": [
  {
   "cell_type": "markdown",
   "id": "df13259f",
   "metadata": {},
   "source": [
    "# Leetcode 490 The Maze"
   ]
  },
  {
   "cell_type": "markdown",
   "id": "cc6d4446",
   "metadata": {},
   "source": [
    "There is a ball in a maze with empty spaces and walls. The ball can go through empty spaces by rolling up, down, left or right but it won't stop rolling until hitting a wall. When the ball stops, it could choose the next direction.\n",
    "\n",
    "Given the ball's start position, the destination and the maze, determine whether the ball could stop at the destination.\n",
    "\n",
    "The maze is represented by a binary 2D array. 1 means wall and 0 means the empty space. You may assume that the borders of the maze are all walls. The start and destination coordinates are represented by row and column indexes."
   ]
  },
  {
   "cell_type": "markdown",
   "id": "93958636",
   "metadata": {},
   "source": [
    "[[0,0,1,0,0],\n",
    " [0,0,0,0,0],\n",
    " [0,0,0,1,0],\n",
    " [1,1,0,1,1],\n",
    " [0,0,0,0,0]]\n",
    "\n",
    "Start = [0,4]\n",
    "Destination = [4,4]"
   ]
  },
  {
   "cell_type": "markdown",
   "id": "28ab56e1",
   "metadata": {},
   "source": [
    "By DFS"
   ]
  },
  {
   "cell_type": "code",
   "execution_count": 6,
   "id": "58df893a",
   "metadata": {},
   "outputs": [],
   "source": [
    "class Solution:\n",
    "    \n",
    "    def findPathDFS(self, maze, start, destination):\n",
    "        if start[0] == destination[0] and start[1] == destination[1]:\n",
    "            return True\n",
    "        #directions to move\n",
    "        dirs = [(0,1), (0,-1), (1, 0), (-1, 0)]\n",
    "        \n",
    "        x, y = start[0], start[1]\n",
    "        for dx, dy in dirs:\n",
    "            nx = x  #new x coord\n",
    "            ny = y  #new y coord\n",
    "            #keep rolling the ball in the current direction until we hit a wall or border\n",
    "            while 0 <= nx + dx < len(maze) and 0 <= ny + dy < len(maze[0]) and maze[nx + dx][ny + dy] != 1:\n",
    "                nx += dx\n",
    "                ny += dy\n",
    "                \n",
    "            \n",
    "            if maze[nx][ny] != 0: #if not already visited, continue\n",
    "                continue\n",
    "                \n",
    "            #mark places already visited\n",
    "            maze[nx][ny] = 2\n",
    "            \n",
    "            if self.findPathDFS(maze, (nx, ny), destination):\n",
    "                return True #mark true if we reach destination\n",
    "        return False\n",
    "            "
   ]
  },
  {
   "cell_type": "code",
   "execution_count": 7,
   "id": "499189f1",
   "metadata": {},
   "outputs": [],
   "source": [
    "sol = Solution()\n",
    "assert sol.findPathDFS([[0,0,1,0,0],\n",
    " [0,0,0,0,0],\n",
    " [0,0,0,1,0],\n",
    " [1,1,0,1,1],\n",
    " [0,0,0,0,0]],\n",
    " [0,4],[4,4] )"
   ]
  },
  {
   "cell_type": "code",
   "execution_count": 8,
   "id": "4bd33017",
   "metadata": {},
   "outputs": [
    {
     "name": "stdout",
     "output_type": "stream",
     "text": [
      "True\n"
     ]
    }
   ],
   "source": [
    "print(sol.findPathDFS([[0,0,1,0,0],\n",
    " [0,0,0,0,0],\n",
    " [0,0,0,1,0],\n",
    " [1,1,0,1,1],\n",
    " [0,0,0,0,0]],\n",
    " [0,4],[4,4] ))"
   ]
  },
  {
   "cell_type": "markdown",
   "id": "40a9dc13",
   "metadata": {},
   "source": [
    "By BFS"
   ]
  },
  {
   "cell_type": "code",
   "execution_count": 18,
   "id": "76dfe8a8",
   "metadata": {},
   "outputs": [],
   "source": [
    "import collections\n",
    "\n",
    "class Solution:\n",
    "    \n",
    "    def findPathBFS(self, maze, start, destination):\n",
    "         #directions to move\n",
    "        dirs = [(0,1), (0,-1), (1, 0), (-1, 0)]\n",
    "        queue = collections.deque([(start[0], start[1])])\n",
    "        while queue:\n",
    "            x, y = queue.popleft() #get position\n",
    "            if x == destination[0] and y == destination[1]:\n",
    "                return True\n",
    "            \n",
    "            for dx, dy in dirs:\n",
    "                nx = x  #new x coord\n",
    "                ny = y  #new y coord\n",
    "                #keep rolling the ball in the current direction until we hit a wall or border\n",
    "                while 0 <= nx + dx < len(maze) and 0 <= ny + dy < len(maze[0]) and maze[nx + dx][ny + dy] != 1:\n",
    "                    nx += dx\n",
    "                    ny += dy\n",
    "        \n",
    "            \n",
    "            if maze[nx][ny] != 0: #if not already visited, continue\n",
    "                continue\n",
    "                \n",
    "                \n",
    "            #mark places already visited\n",
    "            maze[nx][ny] = 2\n",
    "            queue.append((nx, ny))\n",
    "            \n",
    "            if self.findPathBFS(maze, (nx, ny), destination):\n",
    "                return True #mark true if we reach destination\n",
    "        \n",
    "        return False"
   ]
  },
  {
   "cell_type": "code",
   "execution_count": 19,
   "id": "e354dd48",
   "metadata": {},
   "outputs": [
    {
     "name": "stdout",
     "output_type": "stream",
     "text": [
      "False\n"
     ]
    }
   ],
   "source": [
    "sol = Solution()\n",
    "print(sol.findPathBFS([[0,0,1,0,0],\n",
    " [0,0,0,0,0],\n",
    " [0,0,0,1,0],\n",
    " [1,1,0,1,1],\n",
    " [0,0,0,0,0]],\n",
    " [0,4],[4,4] ))"
   ]
  },
  {
   "cell_type": "code",
   "execution_count": null,
   "id": "97dae8ab",
   "metadata": {},
   "outputs": [],
   "source": []
  }
 ],
 "metadata": {
  "kernelspec": {
   "display_name": "Python 3",
   "language": "python",
   "name": "python3"
  },
  "language_info": {
   "codemirror_mode": {
    "name": "ipython",
    "version": 3
   },
   "file_extension": ".py",
   "mimetype": "text/x-python",
   "name": "python",
   "nbconvert_exporter": "python",
   "pygments_lexer": "ipython3",
   "version": "3.8.8"
  }
 },
 "nbformat": 4,
 "nbformat_minor": 5
}
