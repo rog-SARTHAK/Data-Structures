{
 "cells": [
  {
   "cell_type": "code",
   "execution_count": 1,
   "id": "9d4c58f8",
   "metadata": {},
   "outputs": [
    {
     "data": {
      "text/plain": [
       "'llabnogard'"
      ]
     },
     "execution_count": 1,
     "metadata": {},
     "output_type": "execute_result"
    }
   ],
   "source": [
    "#string reverse\n",
    "\n",
    "a = 'dragonball'\n",
    "a[::-1]"
   ]
  },
  {
   "cell_type": "code",
   "execution_count": 3,
   "id": "384aa8e3",
   "metadata": {},
   "outputs": [
    {
     "data": {
      "text/plain": [
       "'dragon'"
      ]
     },
     "execution_count": 3,
     "metadata": {},
     "output_type": "execute_result"
    }
   ],
   "source": [
    "a[:6]"
   ]
  },
  {
   "cell_type": "code",
   "execution_count": 5,
   "id": "5cc5ccf9",
   "metadata": {},
   "outputs": [
    {
     "data": {
      "text/plain": [
       "'ragon'"
      ]
     },
     "execution_count": 5,
     "metadata": {},
     "output_type": "execute_result"
    }
   ],
   "source": [
    "a[-9:-4]"
   ]
  },
  {
   "cell_type": "code",
   "execution_count": 6,
   "id": "579de89c",
   "metadata": {},
   "outputs": [
    {
     "data": {
      "text/plain": [
       "'Dragonball'"
      ]
     },
     "execution_count": 6,
     "metadata": {},
     "output_type": "execute_result"
    }
   ],
   "source": [
    "# Capitalize first alphabet of string\n",
    "\n",
    "a = 'dragonball'\n",
    "a.capitalize()"
   ]
  },
  {
   "cell_type": "code",
   "execution_count": 7,
   "id": "fa78253e",
   "metadata": {},
   "outputs": [
    {
     "data": {
      "text/plain": [
       "2"
      ]
     },
     "execution_count": 7,
     "metadata": {},
     "output_type": "execute_result"
    }
   ],
   "source": [
    "# Counting string\n",
    "a.count(\"l\")"
   ]
  },
  {
   "cell_type": "code",
   "execution_count": 8,
   "id": "fdf662db",
   "metadata": {},
   "outputs": [
    {
     "data": {
      "text/plain": [
       "4"
      ]
     },
     "execution_count": 8,
     "metadata": {},
     "output_type": "execute_result"
    }
   ],
   "source": [
    "a.index(\"o\")"
   ]
  },
  {
   "cell_type": "code",
   "execution_count": 9,
   "id": "6f283d73",
   "metadata": {},
   "outputs": [
    {
     "data": {
      "text/plain": [
       "True"
      ]
     },
     "execution_count": 9,
     "metadata": {},
     "output_type": "execute_result"
    }
   ],
   "source": [
    "a.isalpha()"
   ]
  },
  {
   "cell_type": "code",
   "execution_count": 10,
   "id": "a3005f8b",
   "metadata": {},
   "outputs": [
    {
     "data": {
      "text/plain": [
       "'DRAGONBALL'"
      ]
     },
     "execution_count": 10,
     "metadata": {},
     "output_type": "execute_result"
    }
   ],
   "source": [
    "a.upper()"
   ]
  },
  {
   "cell_type": "code",
   "execution_count": 11,
   "id": "55b9b9ba",
   "metadata": {},
   "outputs": [
    {
     "data": {
      "text/plain": [
       "'dragonba77'"
      ]
     },
     "execution_count": 11,
     "metadata": {},
     "output_type": "execute_result"
    }
   ],
   "source": [
    "a.replace('l','7')"
   ]
  },
  {
   "cell_type": "code",
   "execution_count": 12,
   "id": "a0cffa37",
   "metadata": {},
   "outputs": [
    {
     "data": {
      "text/plain": [
       "'dragonball'"
      ]
     },
     "execution_count": 12,
     "metadata": {},
     "output_type": "execute_result"
    }
   ],
   "source": [
    "a"
   ]
  },
  {
   "cell_type": "code",
   "execution_count": 13,
   "id": "bf8aa885",
   "metadata": {},
   "outputs": [
    {
     "data": {
      "text/plain": [
       "'dragonball'"
      ]
     },
     "execution_count": 13,
     "metadata": {},
     "output_type": "execute_result"
    }
   ],
   "source": [
    "a.strip()"
   ]
  },
  {
   "cell_type": "code",
   "execution_count": 17,
   "id": "93c2fa34",
   "metadata": {},
   "outputs": [
    {
     "data": {
      "text/plain": [
       "['Python is ', ' interpreted l', 'guage']"
      ]
     },
     "execution_count": 17,
     "metadata": {},
     "output_type": "execute_result"
    }
   ],
   "source": [
    "line1 = \"Python is an interpreted language\"\n",
    "line1.split('an')"
   ]
  },
  {
   "cell_type": "code",
   "execution_count": 18,
   "id": "5552506a",
   "metadata": {},
   "outputs": [
    {
     "data": {
      "text/plain": [
       "'goku is a retard'"
      ]
     },
     "execution_count": 18,
     "metadata": {},
     "output_type": "execute_result"
    }
   ],
   "source": [
    "#string interpolation\n",
    "\n",
    "a = 'goku'\n",
    "b = 'retard'\n",
    "\n",
    "c = \"%s is a %s\"%(a,b)\n",
    "c"
   ]
  },
  {
   "cell_type": "code",
   "execution_count": 20,
   "id": "2cab74db",
   "metadata": {},
   "outputs": [
    {
     "data": {
      "text/plain": [
       "'goku is a retard'"
      ]
     },
     "execution_count": 20,
     "metadata": {},
     "output_type": "execute_result"
    }
   ],
   "source": [
    "#python fstring\n",
    "\n",
    "a = 'goku'\n",
    "b = 'retard'\n",
    "\n",
    "c = f'{a} is a {b}'\n",
    "c"
   ]
  },
  {
   "cell_type": "code",
   "execution_count": 21,
   "id": "67a73df4",
   "metadata": {},
   "outputs": [
    {
     "data": {
      "text/plain": [
       "'goku is a retard'"
      ]
     },
     "execution_count": 21,
     "metadata": {},
     "output_type": "execute_result"
    }
   ],
   "source": [
    "# Another technique using .format()\n",
    "\n",
    "a = 'goku'\n",
    "b = 'retard'\n",
    "\n",
    "c = \"{a} is a {b}\".format(a=a, b=b)\n",
    "c"
   ]
  },
  {
   "cell_type": "code",
   "execution_count": 24,
   "id": "1db9cef4",
   "metadata": {},
   "outputs": [
    {
     "data": {
      "text/plain": [
       "'goku is a retard'"
      ]
     },
     "execution_count": 24,
     "metadata": {},
     "output_type": "execute_result"
    }
   ],
   "source": [
    "#Template function\n",
    "\n",
    "from string import Template\n",
    "\n",
    "x = 'goku'\n",
    "y = 'retard'\n",
    "\n",
    "c = Template(\"$x is a $y\")\n",
    "c.substitute(x=x, y=y)\n"
   ]
  },
  {
   "cell_type": "markdown",
   "id": "a4e75f00",
   "metadata": {},
   "source": [
    "Palindrome Check"
   ]
  },
  {
   "cell_type": "code",
   "execution_count": 26,
   "id": "f8d301de",
   "metadata": {},
   "outputs": [
    {
     "name": "stdout",
     "output_type": "stream",
     "text": [
      "basab\n",
      "True\n"
     ]
    }
   ],
   "source": [
    "#function\n",
    "def checkPalin(a):\n",
    "    if (a == a[::-1]):\n",
    "        return True\n",
    "    \n",
    "#driver code or main function\n",
    "if __name__ == '__main__':\n",
    "    a = input()\n",
    "    result = checkPalin(a)\n",
    "    print(result)"
   ]
  },
  {
   "cell_type": "code",
   "execution_count": 38,
   "id": "2ad7ce65",
   "metadata": {},
   "outputs": [
    {
     "name": "stdout",
     "output_type": "stream",
     "text": [
      "sar\n",
      "grace\n",
      "False\n"
     ]
    }
   ],
   "source": [
    "\n",
    "def Checklen(a,b):\n",
    "    if (len(a)== len(b)):\n",
    "        \n",
    "        print(True)\n",
    "\n",
    "    else:\n",
    "        print(False)\n",
    "    \n",
    "if __name__ == '__main__':\n",
    "    a = input()\n",
    "    b = input()\n",
    "    Checklen(a,b)    "
   ]
  },
  {
   "cell_type": "code",
   "execution_count": 43,
   "id": "66355a72",
   "metadata": {},
   "outputs": [
    {
     "name": "stdout",
     "output_type": "stream",
     "text": [
      "Counter({'a': 2, 's': 1, 'r': 1, 't': 1, 'h': 1, 'k': 1})\n",
      "a\n",
      "7\n"
     ]
    }
   ],
   "source": [
    "from collections import Counter\n",
    "\n",
    "a = 'sarthak'\n",
    "data_Counter = Counter(a)\n",
    "print (data_Counter)\n",
    "\n",
    "max_count = max(data_Counter, key=data_Counter.get)\n",
    "print(max_count)\n",
    "\n",
    "tot_elements = len(a)\n",
    "print (tot_elements)"
   ]
  },
  {
   "cell_type": "code",
   "execution_count": 47,
   "id": "dbcfe485",
   "metadata": {},
   "outputs": [
    {
     "name": "stdout",
     "output_type": "stream",
     "text": [
      "Counter({'s': 1, 'a': 1})\n",
      "2\n"
     ]
    }
   ],
   "source": [
    "from collections import Counter\n",
    "\n",
    "a = 'sarthak'\n",
    "data_Counter_a = Counter(a)\n",
    "b = 'rthak'\n",
    "data_Counter_b = Counter(b)\n",
    "sub = data_Counter_a - data_Counter_b\n",
    "print (sub)\n",
    "print (sum(sub.values()))"
   ]
  },
  {
   "cell_type": "markdown",
   "id": "cfc7edef",
   "metadata": {},
   "source": [
    "## HackerRank Anagrams\n",
    "A student is taking a cryptography class and has found anagrams to be very useful. Two strings are anagrams of each other if the first string's letters can be rearranged to form the second string. In other words, both strings must contain the same exact letters in the same exact frequency. For example, bacdc and dcbac are anagrams, but bacdc and dcbad are not.\n",
    "\n",
    "The student decides on an encryption scheme that involves two large strings. The encryption is dependent on the minimum number of character deletions required to make the two strings anagrams. Determine this number.\n",
    "\n",
    "Given two strings,  and , that may or may not be of the same length, determine the minimum number of character deletions required to make  and  anagrams. Any characters can be deleted from either of the strings.\n",
    "\n",
    "Example\n",
    "\n",
    "\n",
    "Delete  from  and  from  so that the remaining strings are  and  which are anagrams. This takes  character deletions.\n",
    "\n",
    "Function Description\n",
    "\n",
    "Complete the makeAnagram function in the editor below.\n",
    "\n",
    "makeAnagram has the following parameter(s):\n",
    "\n",
    "string a: a string\n",
    "string b: another string\n",
    "Returns\n",
    "\n",
    "int: the minimum total characters that must be deleted\n",
    "Input Format\n",
    "\n",
    "The first line contains a single string a.\n",
    "The second line contains a single string b.\n",
    "\n",
    "Sample Input\n",
    "\n",
    "cde\n",
    "abc\n",
    "Sample Output\n",
    "\n",
    "4\n",
    "Explanation\n",
    "\n",
    "Delete the following characters from the strings make them anagrams:\n",
    "\n",
    "Remove d and e from cde to get c.\n",
    "Remove a and b from abc to get c.\n",
    "It takes 4 deletions to make both strings anagrams."
   ]
  },
  {
   "cell_type": "code",
   "execution_count": 49,
   "id": "e13126f4",
   "metadata": {},
   "outputs": [
    {
     "name": "stdout",
     "output_type": "stream",
     "text": [
      "cde\n",
      "abc\n",
      "4\n"
     ]
    }
   ],
   "source": [
    "# For Two strings to be Anagrams, we have to check two conditions\n",
    "# 1) len (S1) == len (S2)\n",
    "# 2) freq of each char of S1 == freq of each char S2\n",
    "\n",
    "def makeAnagram(a, b):\n",
    "    # Write your code here\n",
    "\n",
    "    from collections import Counter\n",
    "\n",
    "\n",
    "    data_Counter_a = Counter(a)\n",
    "\n",
    "    data_Counter_b = Counter(b)\n",
    "    \n",
    "    sub = (data_Counter_a - data_Counter_b) + (data_Counter_b - data_Counter_a)\n",
    "\n",
    "    return (sum(sub.values()))\n",
    "\n",
    "if __name__ == '__main__':\n",
    "#    fptr = open(os.environ['OUTPUT_PATH'], 'w')\n",
    "\n",
    "    a = input()\n",
    "\n",
    "    b = input()\n",
    "\n",
    "    res = makeAnagram(a, b)\n",
    "    \n",
    "    print(res)\n",
    "\n",
    "#    fptr.write(str(res) + '\\n')\n",
    "\n",
    "#    fptr.close()"
   ]
  },
  {
   "cell_type": "markdown",
   "id": "cc857b73",
   "metadata": {},
   "source": [
    "# Input string with test case"
   ]
  },
  {
   "cell_type": "code",
   "execution_count": 4,
   "id": "c81b327d",
   "metadata": {},
   "outputs": [
    {
     "name": "stdout",
     "output_type": "stream",
     "text": [
      "2\n",
      "abc\n",
      "def\n",
      "['abc'] ['def']\n"
     ]
    }
   ],
   "source": [
    "T = int(input())  #Enter the No. of Testcases\n",
    "input_list = [[j for j in input().split(' ')] for i in range(T)]\n",
    "print(*input_list)"
   ]
  },
  {
   "cell_type": "markdown",
   "id": "647c7adc",
   "metadata": {},
   "source": [
    "# string set() function"
   ]
  },
  {
   "cell_type": "code",
   "execution_count": 3,
   "id": "902bb726",
   "metadata": {},
   "outputs": [
    {
     "name": "stdout",
     "output_type": "stream",
     "text": [
      "sarthak\n",
      "{'r', 'h', 'a', 't', 'k', 's'}\n"
     ]
    }
   ],
   "source": [
    "#set() function\n",
    "\n",
    "str1 = input()\n",
    "print(set(str1))"
   ]
  },
  {
   "cell_type": "markdown",
   "id": "ed18a36e",
   "metadata": {},
   "source": [
    "# Hackerrank 2 strings: string comparison\n",
    "\n",
    "\n",
    "s1 = 'and'\n",
    "s2 = 'art'\n",
    "\n",
    "These share the common substring a.\n",
    "\n",
    "s1 = 'be'\n",
    "s2 = 'cat'\n",
    "\n",
    "These do not share a substring.\n",
    "\n",
    "Function Description\n",
    "\n",
    "Complete the function twoStrings in the editor below.\n",
    "\n",
    "twoStrings has the following parameter(s):\n",
    "\n",
    "string s1: a string\n",
    "string s2: another string\n",
    "\n",
    "Returns\n",
    "\n",
    "string: either YES or NO"
   ]
  },
  {
   "cell_type": "code",
   "execution_count": 5,
   "id": "44dc13d3",
   "metadata": {},
   "outputs": [
    {
     "name": "stdout",
     "output_type": "stream",
     "text": [
      "and\n",
      "art\n",
      "YES\n"
     ]
    }
   ],
   "source": [
    "s1 = input()\n",
    "s2 = input()\n",
    "if set(s1) & set(s2):  #Linear string comparison with set()\n",
    "    print('YES')\n",
    "else:\n",
    "    print('NO')"
   ]
  },
  {
   "cell_type": "markdown",
   "id": "3cef256e",
   "metadata": {},
   "source": [
    "# Ransom Note\n",
    "\n",
    "Harold is a kidnapper who wrote a ransom note, but now he is worried it will be traced back to him through his handwriting. He found a magazine and wants to know if he can cut out whole words from it and use them to create an untraceable replica of his ransom note. The words in his note are case-sensitive and he must use only whole words available in the magazine. He cannot use substrings or concatenation to create the words he needs.\n",
    "\n",
    "Given the words in the magazine and the words in the ransom note, print Yes if he can replicate his ransom note exactly using whole words from the magazine; otherwise, print No.\n",
    "\n",
    "Example\n",
    "magazine = \"attack at dawn\" note = \"Attack at dawn\"\n",
    "\n",
    "The magazine has all the right words, but there is a case mismatch. The answer is No.\n",
    "\n",
    "Function Description\n",
    "\n",
    "Complete the checkMagazine function in the editor below. It must print Yes if the note can be formed using the magazine, or No.\n",
    "\n",
    "checkMagazine has the following parameters:\n",
    "\n",
    "string magazine[m]: the words in the magazine\n",
    "string note[n]: the words in the ransom note\n",
    "\n",
    "\n",
    "Sample Input 0\n",
    "\n",
    "6 4\n",
    "give me one grand today night\n",
    "give one grand today\n",
    "Sample Output 0\n",
    "\n",
    "Yes\n",
    "Sample Input 1\n",
    "\n",
    "6 5\n",
    "two times three is not four\n",
    "two times two is four\n",
    "Sample Output 1\n",
    "\n",
    "No"
   ]
  },
  {
   "cell_type": "code",
   "execution_count": 8,
   "id": "f602b823",
   "metadata": {},
   "outputs": [
    {
     "name": "stdout",
     "output_type": "stream",
     "text": [
      "['My', 'name', 'is', 'Sar']\n"
     ]
    }
   ],
   "source": [
    "str1 = 'My name is Sar'\n",
    "print(str1.rstrip().split())"
   ]
  },
  {
   "cell_type": "code",
   "execution_count": 10,
   "id": "c44a7341",
   "metadata": {},
   "outputs": [
    {
     "name": "stdout",
     "output_type": "stream",
     "text": [
      "Counter({'My': 1, 'name': 1, 'is': 1, 'Sar': 1})\n"
     ]
    }
   ],
   "source": [
    "from collections import Counter\n",
    "print(Counter(str1.split()))"
   ]
  },
  {
   "cell_type": "code",
   "execution_count": 11,
   "id": "9efe75bc",
   "metadata": {},
   "outputs": [
    {
     "name": "stdout",
     "output_type": "stream",
     "text": [
      "Counter({' ': 3, 'a': 2, 'M': 1, 'y': 1, 'n': 1, 'm': 1, 'e': 1, 'i': 1, 's': 1, 'S': 1, 'r': 1})\n"
     ]
    }
   ],
   "source": [
    "print(Counter(str1))"
   ]
  },
  {
   "cell_type": "code",
   "execution_count": 21,
   "id": "bc7c53b1",
   "metadata": {},
   "outputs": [
    {
     "name": "stdout",
     "output_type": "stream",
     "text": [
      "Counter()\n",
      "Yes\n"
     ]
    }
   ],
   "source": [
    "magazine = 'give me one grand today night'\n",
    "notes = 'give one grand today'\n",
    "\n",
    "\n",
    "mag = Counter(magazine.split())\n",
    "note = Counter(notes.split())\n",
    "\n",
    "result = note - mag\n",
    "\n",
    "print(result)\n",
    "\n",
    "if result == {}:   # if result is empty\n",
    "    print(\"Yes\")\n",
    "    \n",
    "else:\n",
    "    print(\"No\")\n",
    "\n"
   ]
  },
  {
   "cell_type": "code",
   "execution_count": 20,
   "id": "97794742",
   "metadata": {},
   "outputs": [
    {
     "name": "stdout",
     "output_type": "stream",
     "text": [
      "Counter({'me': 1, 'night': 1})\n"
     ]
    }
   ],
   "source": [
    "magazine = 'give me one grand today night'\n",
    "notes = 'give one grand today'\n",
    "\n",
    "\n",
    "mag = Counter(magazine.split())\n",
    "note = Counter(notes.split())\n",
    "\n",
    "result = mag - note\n",
    "print(result)"
   ]
  },
  {
   "cell_type": "code",
   "execution_count": 1,
   "id": "9e82d38f",
   "metadata": {},
   "outputs": [
    {
     "name": "stdout",
     "output_type": "stream",
     "text": [
      "B\n",
      "C\n",
      "D\n",
      "E\n"
     ]
    }
   ],
   "source": [
    "str2 = 'ABCDE'\n",
    "for char in range(1,len(str2)):\n",
    "    print (str2[char])"
   ]
  },
  {
   "cell_type": "code",
   "execution_count": 2,
   "id": "f8e896bf",
   "metadata": {},
   "outputs": [
    {
     "name": "stdout",
     "output_type": "stream",
     "text": [
      "A\n",
      "B\n",
      "C\n",
      "D\n"
     ]
    }
   ],
   "source": [
    "str2 = 'ABCDE'\n",
    "for char in range(1,len(str2)):\n",
    "    print (str2[char-1])"
   ]
  },
  {
   "cell_type": "code",
   "execution_count": 3,
   "id": "93910caa",
   "metadata": {},
   "outputs": [
    {
     "name": "stdout",
     "output_type": "stream",
     "text": [
      "yes\n",
      "no\n",
      "no\n"
     ]
    }
   ],
   "source": [
    "# If two consecutive characters of a string is same print yes, else print no\n",
    "\n",
    "\n",
    "str1 = 'AABC'\n",
    "for char in range(1,len(str1)):\n",
    "    if str1[char] == str1[char-1] :\n",
    "        print(\"yes\")\n",
    "    else:\n",
    "        print(\"no\")"
   ]
  },
  {
   "cell_type": "markdown",
   "id": "491736d4",
   "metadata": {},
   "source": [
    "# HackerRank Alternating Characters"
   ]
  },
  {
   "cell_type": "markdown",
   "id": "4d10a860",
   "metadata": {},
   "source": [
    "You are given a string containing characters A and B only. Your task is to change it into a string such that there are no matching adjacent characters. To do this, you are allowed to delete zero or more characters in the string.\n",
    "\n",
    "Your task is to find the minimum number of required deletions.\n",
    "\n",
    "Example\n",
    "\n",
    "s = AABAAB\n",
    "\n",
    "Remove an A at positions 0 and 3 to make s = ABAB in 2 deletions.\n",
    "\n",
    "Sample Input\n",
    "\n",
    "5\n",
    "AAAA\n",
    "BBBBB\n",
    "ABABABAB\n",
    "BABABA\n",
    "AAABBB\n",
    "\n",
    "\n",
    "Sample Output\n",
    "\n",
    "3\n",
    "4\n",
    "0\n",
    "0\n",
    "4"
   ]
  },
  {
   "cell_type": "code",
   "execution_count": null,
   "id": "8d19550f",
   "metadata": {},
   "outputs": [],
   "source": [
    "# Function\n",
    "\n",
    "def alternatingCharacters(s):\n",
    "    # Write your code here\n",
    "\n",
    "    \n",
    "    \n",
    "    count = 0\n",
    "    for char in range(1,len(s)):\n",
    "        if s[char] == s[char-1] :\n",
    "            count += 1\n",
    "            \n",
    "    return count"
   ]
  },
  {
   "cell_type": "code",
   "execution_count": null,
   "id": "013d4ddd",
   "metadata": {},
   "outputs": [],
   "source": []
  }
 ],
 "metadata": {
  "kernelspec": {
   "display_name": "Python 3",
   "language": "python",
   "name": "python3"
  },
  "language_info": {
   "codemirror_mode": {
    "name": "ipython",
    "version": 3
   },
   "file_extension": ".py",
   "mimetype": "text/x-python",
   "name": "python",
   "nbconvert_exporter": "python",
   "pygments_lexer": "ipython3",
   "version": "3.8.8"
  }
 },
 "nbformat": 4,
 "nbformat_minor": 5
}
