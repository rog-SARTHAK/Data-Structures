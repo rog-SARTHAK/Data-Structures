{
 "cells": [
  {
   "cell_type": "code",
   "execution_count": 1,
   "id": "9d4c58f8",
   "metadata": {},
   "outputs": [
    {
     "data": {
      "text/plain": [
       "'llabnogard'"
      ]
     },
     "execution_count": 1,
     "metadata": {},
     "output_type": "execute_result"
    }
   ],
   "source": [
    "#string reverse\n",
    "\n",
    "a = 'dragonball'\n",
    "a[::-1]"
   ]
  },
  {
   "cell_type": "code",
   "execution_count": 3,
   "id": "384aa8e3",
   "metadata": {},
   "outputs": [
    {
     "data": {
      "text/plain": [
       "'dragon'"
      ]
     },
     "execution_count": 3,
     "metadata": {},
     "output_type": "execute_result"
    }
   ],
   "source": [
    "a[:6]"
   ]
  },
  {
   "cell_type": "code",
   "execution_count": 5,
   "id": "5cc5ccf9",
   "metadata": {},
   "outputs": [
    {
     "data": {
      "text/plain": [
       "'ragon'"
      ]
     },
     "execution_count": 5,
     "metadata": {},
     "output_type": "execute_result"
    }
   ],
   "source": [
    "a[-9:-4]"
   ]
  },
  {
   "cell_type": "code",
   "execution_count": 6,
   "id": "579de89c",
   "metadata": {},
   "outputs": [
    {
     "data": {
      "text/plain": [
       "'Dragonball'"
      ]
     },
     "execution_count": 6,
     "metadata": {},
     "output_type": "execute_result"
    }
   ],
   "source": [
    "# Capitalize first alphabet of string\n",
    "\n",
    "a = 'dragonball'\n",
    "a.capitalize()"
   ]
  },
  {
   "cell_type": "code",
   "execution_count": 7,
   "id": "fa78253e",
   "metadata": {},
   "outputs": [
    {
     "data": {
      "text/plain": [
       "2"
      ]
     },
     "execution_count": 7,
     "metadata": {},
     "output_type": "execute_result"
    }
   ],
   "source": [
    "# Counting string\n",
    "a.count(\"l\")"
   ]
  },
  {
   "cell_type": "code",
   "execution_count": 8,
   "id": "fdf662db",
   "metadata": {},
   "outputs": [
    {
     "data": {
      "text/plain": [
       "4"
      ]
     },
     "execution_count": 8,
     "metadata": {},
     "output_type": "execute_result"
    }
   ],
   "source": [
    "a.index(\"o\")"
   ]
  },
  {
   "cell_type": "code",
   "execution_count": 9,
   "id": "6f283d73",
   "metadata": {},
   "outputs": [
    {
     "data": {
      "text/plain": [
       "True"
      ]
     },
     "execution_count": 9,
     "metadata": {},
     "output_type": "execute_result"
    }
   ],
   "source": [
    "a.isalpha()"
   ]
  },
  {
   "cell_type": "code",
   "execution_count": 10,
   "id": "a3005f8b",
   "metadata": {},
   "outputs": [
    {
     "data": {
      "text/plain": [
       "'DRAGONBALL'"
      ]
     },
     "execution_count": 10,
     "metadata": {},
     "output_type": "execute_result"
    }
   ],
   "source": [
    "a.upper()"
   ]
  },
  {
   "cell_type": "code",
   "execution_count": 11,
   "id": "55b9b9ba",
   "metadata": {},
   "outputs": [
    {
     "data": {
      "text/plain": [
       "'dragonba77'"
      ]
     },
     "execution_count": 11,
     "metadata": {},
     "output_type": "execute_result"
    }
   ],
   "source": [
    "a.replace('l','7')"
   ]
  },
  {
   "cell_type": "code",
   "execution_count": 12,
   "id": "a0cffa37",
   "metadata": {},
   "outputs": [
    {
     "data": {
      "text/plain": [
       "'dragonball'"
      ]
     },
     "execution_count": 12,
     "metadata": {},
     "output_type": "execute_result"
    }
   ],
   "source": [
    "a"
   ]
  },
  {
   "cell_type": "code",
   "execution_count": 13,
   "id": "bf8aa885",
   "metadata": {},
   "outputs": [
    {
     "data": {
      "text/plain": [
       "'dragonball'"
      ]
     },
     "execution_count": 13,
     "metadata": {},
     "output_type": "execute_result"
    }
   ],
   "source": [
    "a.strip()"
   ]
  },
  {
   "cell_type": "code",
   "execution_count": 17,
   "id": "93c2fa34",
   "metadata": {},
   "outputs": [
    {
     "data": {
      "text/plain": [
       "['Python is ', ' interpreted l', 'guage']"
      ]
     },
     "execution_count": 17,
     "metadata": {},
     "output_type": "execute_result"
    }
   ],
   "source": [
    "line1 = \"Python is an interpreted language\"\n",
    "line1.split('an')"
   ]
  },
  {
   "cell_type": "code",
   "execution_count": 18,
   "id": "5552506a",
   "metadata": {},
   "outputs": [
    {
     "data": {
      "text/plain": [
       "'goku is a retard'"
      ]
     },
     "execution_count": 18,
     "metadata": {},
     "output_type": "execute_result"
    }
   ],
   "source": [
    "#string interpolation\n",
    "\n",
    "a = 'goku'\n",
    "b = 'retard'\n",
    "\n",
    "c = \"%s is a %s\"%(a,b)\n",
    "c"
   ]
  },
  {
   "cell_type": "code",
   "execution_count": 20,
   "id": "2cab74db",
   "metadata": {},
   "outputs": [
    {
     "data": {
      "text/plain": [
       "'goku is a retard'"
      ]
     },
     "execution_count": 20,
     "metadata": {},
     "output_type": "execute_result"
    }
   ],
   "source": [
    "#python fstring\n",
    "\n",
    "a = 'goku'\n",
    "b = 'retard'\n",
    "\n",
    "c = f'{a} is a {b}'\n",
    "c"
   ]
  },
  {
   "cell_type": "code",
   "execution_count": 21,
   "id": "67a73df4",
   "metadata": {},
   "outputs": [
    {
     "data": {
      "text/plain": [
       "'goku is a retard'"
      ]
     },
     "execution_count": 21,
     "metadata": {},
     "output_type": "execute_result"
    }
   ],
   "source": [
    "# Another technique using .format()\n",
    "\n",
    "a = 'goku'\n",
    "b = 'retard'\n",
    "\n",
    "c = \"{a} is a {b}\".format(a=a, b=b)\n",
    "c"
   ]
  },
  {
   "cell_type": "code",
   "execution_count": 24,
   "id": "1db9cef4",
   "metadata": {},
   "outputs": [
    {
     "data": {
      "text/plain": [
       "'goku is a retard'"
      ]
     },
     "execution_count": 24,
     "metadata": {},
     "output_type": "execute_result"
    }
   ],
   "source": [
    "#Template function\n",
    "\n",
    "from string import Template\n",
    "\n",
    "x = 'goku'\n",
    "y = 'retard'\n",
    "\n",
    "c = Template(\"$x is a $y\")\n",
    "c.substitute(x=x, y=y)\n"
   ]
  },
  {
   "cell_type": "markdown",
   "id": "a4e75f00",
   "metadata": {},
   "source": [
    "Palindrome Check"
   ]
  },
  {
   "cell_type": "code",
   "execution_count": 26,
   "id": "f8d301de",
   "metadata": {},
   "outputs": [
    {
     "name": "stdout",
     "output_type": "stream",
     "text": [
      "basab\n",
      "True\n"
     ]
    }
   ],
   "source": [
    "#function\n",
    "def checkPalin(a):\n",
    "    if (a == a[::-1]):\n",
    "        return True\n",
    "    \n",
    "#driver code or main function\n",
    "if __name__ == '__main__':\n",
    "    a = input()\n",
    "    result = checkPalin(a)\n",
    "    print(result)"
   ]
  },
  {
   "cell_type": "code",
   "execution_count": 38,
   "id": "2ad7ce65",
   "metadata": {},
   "outputs": [
    {
     "name": "stdout",
     "output_type": "stream",
     "text": [
      "sar\n",
      "grace\n",
      "False\n"
     ]
    }
   ],
   "source": [
    "\n",
    "def Checklen(a,b):\n",
    "    if (len(a)== len(b)):\n",
    "        \n",
    "        print(True)\n",
    "\n",
    "    else:\n",
    "        print(False)\n",
    "    \n",
    "if __name__ == '__main__':\n",
    "    a = input()\n",
    "    b = input()\n",
    "    Checklen(a,b)    "
   ]
  },
  {
   "cell_type": "code",
   "execution_count": 43,
   "id": "66355a72",
   "metadata": {},
   "outputs": [
    {
     "name": "stdout",
     "output_type": "stream",
     "text": [
      "Counter({'a': 2, 's': 1, 'r': 1, 't': 1, 'h': 1, 'k': 1})\n",
      "a\n",
      "7\n"
     ]
    }
   ],
   "source": [
    "from collections import Counter\n",
    "\n",
    "a = 'sarthak'\n",
    "data_Counter = Counter(a)\n",
    "print (data_Counter)\n",
    "\n",
    "max_count = max(data_Counter, key=data_Counter.get)\n",
    "print(max_count)\n",
    "\n",
    "tot_elements = len(a)\n",
    "print (tot_elements)"
   ]
  },
  {
   "cell_type": "code",
   "execution_count": 47,
   "id": "dbcfe485",
   "metadata": {},
   "outputs": [
    {
     "name": "stdout",
     "output_type": "stream",
     "text": [
      "Counter({'s': 1, 'a': 1})\n",
      "2\n"
     ]
    }
   ],
   "source": [
    "from collections import Counter\n",
    "\n",
    "a = 'sarthak'\n",
    "data_Counter_a = Counter(a)\n",
    "b = 'rthak'\n",
    "data_Counter_b = Counter(b)\n",
    "sub = data_Counter_a - data_Counter_b\n",
    "print (sub)\n",
    "print (sum(sub.values()))"
   ]
  },
  {
   "cell_type": "markdown",
   "id": "cfc7edef",
   "metadata": {},
   "source": [
    "## HackerRank Anagrams\n",
    "A student is taking a cryptography class and has found anagrams to be very useful. Two strings are anagrams of each other if the first string's letters can be rearranged to form the second string. In other words, both strings must contain the same exact letters in the same exact frequency. For example, bacdc and dcbac are anagrams, but bacdc and dcbad are not.\n",
    "\n",
    "The student decides on an encryption scheme that involves two large strings. The encryption is dependent on the minimum number of character deletions required to make the two strings anagrams. Determine this number.\n",
    "\n",
    "Given two strings,  and , that may or may not be of the same length, determine the minimum number of character deletions required to make  and  anagrams. Any characters can be deleted from either of the strings.\n",
    "\n",
    "Example\n",
    "\n",
    "\n",
    "Delete  from  and  from  so that the remaining strings are  and  which are anagrams. This takes  character deletions.\n",
    "\n",
    "Function Description\n",
    "\n",
    "Complete the makeAnagram function in the editor below.\n",
    "\n",
    "makeAnagram has the following parameter(s):\n",
    "\n",
    "string a: a string\n",
    "string b: another string\n",
    "Returns\n",
    "\n",
    "int: the minimum total characters that must be deleted\n",
    "Input Format\n",
    "\n",
    "The first line contains a single string a.\n",
    "The second line contains a single string b.\n",
    "\n",
    "Sample Input\n",
    "\n",
    "cde\n",
    "abc\n",
    "Sample Output\n",
    "\n",
    "4\n",
    "Explanation\n",
    "\n",
    "Delete the following characters from the strings make them anagrams:\n",
    "\n",
    "Remove d and e from cde to get c.\n",
    "Remove a and b from abc to get c.\n",
    "It takes 4 deletions to make both strings anagrams."
   ]
  },
  {
   "cell_type": "code",
   "execution_count": 49,
   "id": "e13126f4",
   "metadata": {},
   "outputs": [
    {
     "name": "stdout",
     "output_type": "stream",
     "text": [
      "cde\n",
      "abc\n",
      "4\n"
     ]
    }
   ],
   "source": [
    "# For Two strings to be Anagrams, we have to check two conditions\n",
    "# 1) len (S1) == len (S2)\n",
    "# 2) freq of each char of S1 == freq of each char S2\n",
    "\n",
    "def makeAnagram(a, b):\n",
    "    # Write your code here\n",
    "\n",
    "    from collections import Counter\n",
    "\n",
    "\n",
    "    data_Counter_a = Counter(a)\n",
    "\n",
    "    data_Counter_b = Counter(b)\n",
    "    \n",
    "    sub = (data_Counter_a - data_Counter_b) + (data_Counter_b - data_Counter_a)\n",
    "\n",
    "    return (sum(sub.values()))\n",
    "\n",
    "if __name__ == '__main__':\n",
    "#    fptr = open(os.environ['OUTPUT_PATH'], 'w')\n",
    "\n",
    "    a = input()\n",
    "\n",
    "    b = input()\n",
    "\n",
    "    res = makeAnagram(a, b)\n",
    "    \n",
    "    print(res)\n",
    "\n",
    "#    fptr.write(str(res) + '\\n')\n",
    "\n",
    "#    fptr.close()"
   ]
  },
  {
   "cell_type": "code",
   "execution_count": null,
   "id": "73e2a216",
   "metadata": {},
   "outputs": [],
   "source": []
  }
 ],
 "metadata": {
  "kernelspec": {
   "display_name": "Python 3",
   "language": "python",
   "name": "python3"
  },
  "language_info": {
   "codemirror_mode": {
    "name": "ipython",
    "version": 3
   },
   "file_extension": ".py",
   "mimetype": "text/x-python",
   "name": "python",
   "nbconvert_exporter": "python",
   "pygments_lexer": "ipython3",
   "version": "3.8.8"
  }
 },
 "nbformat": 4,
 "nbformat_minor": 5
}
