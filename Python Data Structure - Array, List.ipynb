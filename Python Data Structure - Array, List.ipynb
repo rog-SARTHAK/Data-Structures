{
 "cells": [
  {
   "cell_type": "code",
   "execution_count": 2,
   "id": "d925fedf",
   "metadata": {},
   "outputs": [
    {
     "name": "stdout",
     "output_type": "stream",
     "text": [
      "4\n",
      "4\n"
     ]
    }
   ],
   "source": [
    "a = int(input())\n",
    "print (a)"
   ]
  },
  {
   "cell_type": "markdown",
   "id": "64bcfd40",
   "metadata": {},
   "source": [
    "For each line of input, print to standard output 'True' if the number is an exact power of two and 'False' if not. Print out each result on a new line."
   ]
  },
  {
   "cell_type": "code",
   "execution_count": 21,
   "id": "daaf8301",
   "metadata": {},
   "outputs": [
    {
     "name": "stdout",
     "output_type": "stream",
     "text": [
      "32\n",
      "True\n"
     ]
    }
   ],
   "source": [
    "\n",
    "    def powertwo(n):\n",
    "            if (n==0):\n",
    "                return 0\n",
    "            else:\n",
    "                while(n!=1):\n",
    "\n",
    "                    if (n%2 != 0):\n",
    "                        return 0\n",
    "                        break\n",
    "                    else:\n",
    "                        n=n/2\n",
    "                        if (n==1):\n",
    "                            return 1\n",
    "                    \n",
    "    \n",
    "\n",
    "a = int(input())\n",
    "print(bool(powertwo(a)))"
   ]
  },
  {
   "cell_type": "markdown",
   "id": "3d99ad2c",
   "metadata": {},
   "source": [
    "#Palindrome"
   ]
  },
  {
   "cell_type": "code",
   "execution_count": 18,
   "id": "604de77a",
   "metadata": {},
   "outputs": [
    {
     "name": "stdout",
     "output_type": "stream",
     "text": [
      "Enter a string: basab\n",
      "Is Palindrome\n"
     ]
    }
   ],
   "source": [
    "def Palin(a):\n",
    "    return a == a[::-1]\n",
    "\n",
    "st = input(\"Enter a string: \")\n",
    "ans = Palin(st)\n",
    "\n",
    "if ans:\n",
    "    print(\"Is Palindrome\")\n",
    "else:\n",
    "    print(\"Not Palindrome\")"
   ]
  },
  {
   "cell_type": "code",
   "execution_count": 20,
   "id": "4dd3a472",
   "metadata": {},
   "outputs": [
    {
     "name": "stdout",
     "output_type": "stream",
     "text": [
      "3 4\n",
      "['3', '4']\n"
     ]
    }
   ],
   "source": [
    "a = input().split()\n",
    "print(a)"
   ]
  },
  {
   "cell_type": "code",
   "execution_count": 23,
   "id": "9a48bc81",
   "metadata": {},
   "outputs": [
    {
     "name": "stdout",
     "output_type": "stream",
     "text": [
      "4\n",
      "16\n"
     ]
    }
   ],
   "source": [
    "a = int(input())\n",
    "print(a*a)"
   ]
  },
  {
   "cell_type": "code",
   "execution_count": 4,
   "id": "cbad72d1",
   "metadata": {},
   "outputs": [
    {
     "name": "stdout",
     "output_type": "stream",
     "text": [
      "1\n",
      "1\n"
     ]
    }
   ],
   "source": [
    "str1 = int(input())\n",
    "print(str1)\n",
    "\n"
   ]
  },
  {
   "cell_type": "markdown",
   "id": "4e584f12",
   "metadata": {},
   "source": [
    "Array Playaround"
   ]
  },
  {
   "cell_type": "code",
   "execution_count": 10,
   "id": "44f184e3",
   "metadata": {},
   "outputs": [
    {
     "name": "stdout",
     "output_type": "stream",
     "text": [
      "1 2 3\n",
      "['1', '2', '3']\n"
     ]
    }
   ],
   "source": [
    "list1 = input().split() #split as space separated list elements\n",
    "print(list1)"
   ]
  },
  {
   "cell_type": "code",
   "execution_count": 17,
   "id": "bf08779a",
   "metadata": {},
   "outputs": [
    {
     "name": "stdout",
     "output_type": "stream",
     "text": [
      "1 2 3\n"
     ]
    },
    {
     "data": {
      "text/plain": [
       "[1, 2, 3]"
      ]
     },
     "execution_count": 17,
     "metadata": {},
     "output_type": "execute_result"
    }
   ],
   "source": [
    "list(map(int, input().split()))"
   ]
  },
  {
   "cell_type": "code",
   "execution_count": 22,
   "id": "09991516",
   "metadata": {},
   "outputs": [
    {
     "name": "stdout",
     "output_type": "stream",
     "text": [
      "1 2 3\n",
      "[1, 2, 3]\n"
     ]
    }
   ],
   "source": [
    "x = [int(i) for i in input().split()]\n",
    "print(x)"
   ]
  },
  {
   "cell_type": "code",
   "execution_count": 41,
   "id": "28744a30",
   "metadata": {},
   "outputs": [
    {
     "name": "stdout",
     "output_type": "stream",
     "text": [
      "3\n",
      "6 7 8\n",
      "[6, 7, 8]\n"
     ]
    }
   ],
   "source": [
    "n = int(input())\n",
    "x = [int(i) for i in input().split()][:n]\n",
    "print(x)"
   ]
  },
  {
   "cell_type": "code",
   "execution_count": 31,
   "id": "2af2c8eb",
   "metadata": {},
   "outputs": [
    {
     "name": "stdout",
     "output_type": "stream",
     "text": [
      "1 2 3\n",
      "[5, 10, 15]\n"
     ]
    }
   ],
   "source": [
    "import numpy as np\n",
    "\n",
    "list1 = list(map(int, input().split()))\n",
    "result = np.array(list1)*5\n",
    "print(list(result))"
   ]
  },
  {
   "cell_type": "code",
   "execution_count": 39,
   "id": "a56df32a",
   "metadata": {},
   "outputs": [
    {
     "name": "stdout",
     "output_type": "stream",
     "text": [
      "4 5 6 7\n",
      "4\n",
      "5\n"
     ]
    }
   ],
   "source": [
    "list3 = input().split()\n",
    "st1 = list3[0]\n",
    "st2 = list3[1]\n",
    "print(st1)\n",
    "print(st2)"
   ]
  },
  {
   "cell_type": "markdown",
   "id": "e4c587b6",
   "metadata": {},
   "source": [
    "Slicing List"
   ]
  },
  {
   "cell_type": "code",
   "execution_count": 40,
   "id": "61d73bd8",
   "metadata": {},
   "outputs": [
    {
     "name": "stdout",
     "output_type": "stream",
     "text": [
      "3 4 5 6 7 8\n",
      "['3', '4', '5']\n",
      "['6', '7', '8']\n"
     ]
    }
   ],
   "source": [
    "list4 = input().split()\n",
    "split1 = list4[:len(list4)//2]\n",
    "split2 = list4[len(list4)//2:]\n",
    "print(split1)\n",
    "print(split2)"
   ]
  },
  {
   "cell_type": "code",
   "execution_count": 46,
   "id": "b84e431b",
   "metadata": {},
   "outputs": [
    {
     "name": "stdout",
     "output_type": "stream",
     "text": [
      "3 4 5 6 7\n",
      "['4', '5', '6', '7']\n",
      "['3']\n",
      "4 5 6 7\n",
      "3\n"
     ]
    }
   ],
   "source": [
    "list5 = input().split()\n",
    "a= list5[1:]\n",
    "b= [list5[0]] #list integer to list, same as list(list5[0])\n",
    "print(a)\n",
    "print(b)\n",
    "print(*a)\n",
    "print(*b)\n"
   ]
  },
  {
   "cell_type": "code",
   "execution_count": 49,
   "id": "efc0d82b",
   "metadata": {},
   "outputs": [
    {
     "name": "stdout",
     "output_type": "stream",
     "text": [
      "3 4 5 6\n",
      "5 6\n",
      "3 4\n",
      "5 6 3 4\n"
     ]
    }
   ],
   "source": [
    "list5 = input().split()\n",
    "d = 2\n",
    "a= list5[d:]\n",
    "b= list5[:d] \n",
    "print(*a)\n",
    "print(*b)\n",
    "print (*(a+b))"
   ]
  },
  {
   "cell_type": "markdown",
   "id": "ab758d29",
   "metadata": {},
   "source": [
    "HackerRank d times left rotations\n",
    "d = 2\n",
    "[1,2,3,4] -> [2,3,4,1] -> [3,4,1,2]\n",
    "\n",
    "I/P\n",
    "5 2\n",
    "1 2 3 4 5\n",
    "\n",
    "O/P\n",
    "3 4 1 2"
   ]
  },
  {
   "cell_type": "code",
   "execution_count": 55,
   "id": "b4213533",
   "metadata": {},
   "outputs": [
    {
     "name": "stdout",
     "output_type": "stream",
     "text": [
      "5 2\n",
      "1 2 3 4 5\n",
      "3 4 5 1 2\n"
     ]
    }
   ],
   "source": [
    "def lft_rotation(a,d):\n",
    "    return (a[d:] + a[:d])\n",
    "\n",
    "if __name__ == '__main__':\n",
    "    first_multiple_input = input().rstrip().split()\n",
    "\n",
    "    n = int(first_multiple_input[0])\n",
    "\n",
    "    d = int(first_multiple_input[1])\n",
    "\n",
    "    a = list(map(int, input().rstrip().split()))\n",
    "    \n",
    "    print(*(lft_rotation(a, d)))"
   ]
  },
  {
   "cell_type": "code",
   "execution_count": null,
   "id": "e981a33c",
   "metadata": {},
   "outputs": [],
   "source": []
  }
 ],
 "metadata": {
  "kernelspec": {
   "display_name": "Python 3",
   "language": "python",
   "name": "python3"
  },
  "language_info": {
   "codemirror_mode": {
    "name": "ipython",
    "version": 3
   },
   "file_extension": ".py",
   "mimetype": "text/x-python",
   "name": "python",
   "nbconvert_exporter": "python",
   "pygments_lexer": "ipython3",
   "version": "3.8.8"
  }
 },
 "nbformat": 4,
 "nbformat_minor": 5
}
