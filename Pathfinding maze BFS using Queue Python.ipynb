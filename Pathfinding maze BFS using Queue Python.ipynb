{
 "cells": [
  {
   "cell_type": "code",
   "execution_count": 2,
   "id": "c21e10b6",
   "metadata": {},
   "outputs": [
    {
     "name": "stdout",
     "output_type": "stream",
     "text": [
      "[7, 6, 5]\n"
     ]
    }
   ],
   "source": [
    "#QUEUE FIFO Revision\n",
    "\n",
    "import queue\n",
    "\n",
    "queue = []\n",
    "\n",
    "queue.insert(0,5) #inserting 5 at 0th position\n",
    "queue.insert(0,6)\n",
    "queue.insert(0,7)\n",
    "\n",
    "print(queue)"
   ]
  },
  {
   "cell_type": "code",
   "execution_count": 3,
   "id": "58257bc9",
   "metadata": {},
   "outputs": [
    {
     "data": {
      "text/plain": [
       "5"
      ]
     },
     "execution_count": 3,
     "metadata": {},
     "output_type": "execute_result"
    }
   ],
   "source": [
    "queue.pop() #first element inserted will go out"
   ]
  },
  {
   "cell_type": "code",
   "execution_count": 4,
   "id": "9e0d5caa",
   "metadata": {},
   "outputs": [
    {
     "data": {
      "text/plain": [
       "6"
      ]
     },
     "execution_count": 4,
     "metadata": {},
     "output_type": "execute_result"
    }
   ],
   "source": [
    "queue.pop()"
   ]
  },
  {
   "cell_type": "code",
   "execution_count": 5,
   "id": "93c80cc7",
   "metadata": {},
   "outputs": [
    {
     "name": "stdout",
     "output_type": "stream",
     "text": [
      "[7]\n"
     ]
    }
   ],
   "source": [
    "print(queue)"
   ]
  },
  {
   "cell_type": "code",
   "execution_count": 16,
   "id": "94d4ecc7",
   "metadata": {},
   "outputs": [],
   "source": [
    "#creating maze\n",
    "\n",
    "def createMaze():\n",
    "    maze = []\n",
    "    maze.append([\"#\",\"O\",\"#\",\"#\",\"#\",\"#\",\"#\"])\n",
    "    maze.append([\"#\",\" \",\" \",\" \",\"#\",\" \",\"#\"])\n",
    "    maze.append([\"#\",\" \",\"#\",\" \",\"#\",\" \",\"#\"])\n",
    "    maze.append([\"#\",\" \",\"#\",\" \",\" \",\" \",\"#\"])\n",
    "    maze.append([\"#\",\" \",\"#\",\"#\",\"#\",\" \",\"#\"])\n",
    "    maze.append([\"#\",\" \",\" \",\" \",\"#\",\" \",\"#\"])\n",
    "    maze.append([\"#\",\"#\",\"#\",\"#\",\"#\",\"X\",\"#\"])\n",
    "    \n",
    "    return maze"
   ]
  },
  {
   "cell_type": "code",
   "execution_count": 17,
   "id": "54b67ca6",
   "metadata": {},
   "outputs": [],
   "source": [
    "def printMaze(maze, path=\"\"):\n",
    "    for x, pos in enumerate(maze[0]):\n",
    "        if pos == \"O\":\n",
    "            start = x\n",
    "            \n",
    "    i = start\n",
    "    j= 0\n",
    "    pos = set()\n",
    "    for move in path:\n",
    "        if move == \"L\":\n",
    "            i -= 1\n",
    "    \n",
    "        elif move == \"R\":\n",
    "            i -= 1\n",
    "    \n",
    "        elif move == \"U\":\n",
    "            j -= 1\n",
    "    \n",
    "        elif move == \"D\":\n",
    "            j -= 1\n",
    "        pos.add((j, i))\n",
    "        \n",
    "        \n",
    "    for j, row in enumerate(maze):\n",
    "        for i, col in enumerate(row):\n",
    "            if (j, i) in pos:\n",
    "                print(\"+ \", end=\"\")\n",
    "            else:\n",
    "                print(col + \" \", end=\"\")\n",
    "        \n",
    "        print()\n",
    "        "
   ]
  },
  {
   "cell_type": "code",
   "execution_count": 18,
   "id": "6734238c",
   "metadata": {},
   "outputs": [],
   "source": [
    "#Check valid move or not\n",
    "\n",
    "def valid(maze, moves):\n",
    "    for x, pos in enumerate(maze[0]):\n",
    "        if pos == \"O\":\n",
    "            start = x\n",
    "            \n",
    "    i = start\n",
    "    j= 0\n",
    "    pos = set()\n",
    "    for move in moves:\n",
    "        if move == \"L\":\n",
    "            i -= 1\n",
    "    \n",
    "        elif move == \"R\":\n",
    "            i += 1\n",
    "    \n",
    "        elif move == \"U\":\n",
    "            j -= 1\n",
    "    \n",
    "        elif move == \"D\":\n",
    "            j += 1\n",
    "        if not(0 <= i < len(maze[0]) and 0 <= j < len(maze)):\n",
    "            return False\n",
    "        elif (maze[j][i] == \"#\"):\n",
    "            return False\n",
    "        \n",
    "    return True\n",
    "        \n",
    "        \n",
    "def findEnd(maze, moves):\n",
    "    for x, pos in enumerate(maze[0]):\n",
    "        if pos == \"O\":\n",
    "            start = x\n",
    "            \n",
    "    i = start\n",
    "    j = 0\n",
    "    for move in moves:\n",
    "        if move == \"L\":\n",
    "            i -= 1\n",
    "            \n",
    "        elif move == \"R\":\n",
    "            i+= 1\n",
    "        \n",
    "        elif move == \"U\":\n",
    "            j -= 1\n",
    "            \n",
    "        elif move == \"D\":\n",
    "            j += 1\n",
    "            \n",
    "    if maze[j][i] == 'X':\n",
    "        print(\"Found: \" + moves)\n",
    "        printMaze(maze, moves)\n",
    "        return True\n",
    "    return False"
   ]
  },
  {
   "cell_type": "code",
   "execution_count": 19,
   "id": "ff55a492",
   "metadata": {},
   "outputs": [
    {
     "name": "stdout",
     "output_type": "stream",
     "text": [
      "Found: DRRDDRRDDD\n",
      "# O # # # # # \n",
      "#       #   # \n",
      "#   #   #   # \n",
      "#   #       # \n",
      "#   # # #   # \n",
      "#       #   # \n",
      "# # # # # X # \n"
     ]
    }
   ],
   "source": [
    "#BFS\n",
    "\n",
    "import queue\n",
    "\n",
    "\n",
    "nums = queue.Queue() #create a queue\n",
    "nums.put(\"\")        #put things into queue, put a blank string at start\n",
    "path = \"\"            # path represent first path we have\n",
    "maze = createMaze()\n",
    "\n",
    "while not findEnd(maze, path): #path represents path recently used\n",
    "\n",
    "    #while we not found the end, we continue the process\n",
    "\n",
    "    path = nums.get()\n",
    "    \n",
    "    for j in [\"L\", \"R\", \"U\", \"D\"]:\n",
    "        put = path + j\n",
    "        if valid(maze, put):\n",
    "            nums.put(put)\n",
    "    "
   ]
  },
  {
   "cell_type": "code",
   "execution_count": null,
   "id": "6682c769",
   "metadata": {},
   "outputs": [],
   "source": []
  }
 ],
 "metadata": {
  "kernelspec": {
   "display_name": "Python 3",
   "language": "python",
   "name": "python3"
  },
  "language_info": {
   "codemirror_mode": {
    "name": "ipython",
    "version": 3
   },
   "file_extension": ".py",
   "mimetype": "text/x-python",
   "name": "python",
   "nbconvert_exporter": "python",
   "pygments_lexer": "ipython3",
   "version": "3.8.8"
  }
 },
 "nbformat": 4,
 "nbformat_minor": 5
}
