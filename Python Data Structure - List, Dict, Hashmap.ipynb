{
 "cells": [
  {
   "cell_type": "code",
   "execution_count": 2,
   "id": "d925fedf",
   "metadata": {},
   "outputs": [
    {
     "name": "stdout",
     "output_type": "stream",
     "text": [
      "4\n",
      "4\n"
     ]
    }
   ],
   "source": [
    "a = int(input())\n",
    "print (a)"
   ]
  },
  {
   "cell_type": "markdown",
   "id": "64bcfd40",
   "metadata": {},
   "source": [
    "For each line of input, print to standard output 'True' if the number is an exact power of two and 'False' if not. Print out each result on a new line."
   ]
  },
  {
   "cell_type": "code",
   "execution_count": 21,
   "id": "daaf8301",
   "metadata": {},
   "outputs": [
    {
     "name": "stdout",
     "output_type": "stream",
     "text": [
      "32\n",
      "True\n"
     ]
    }
   ],
   "source": [
    "\n",
    "    def powertwo(n):\n",
    "            if (n==0):\n",
    "                return 0\n",
    "            else:\n",
    "                while(n!=1):\n",
    "\n",
    "                    if (n%2 != 0):\n",
    "                        return 0\n",
    "                        break\n",
    "                    else:\n",
    "                        n=n/2\n",
    "                        if (n==1):\n",
    "                            return 1\n",
    "                    \n",
    "    \n",
    "\n",
    "a = int(input())\n",
    "print(bool(powertwo(a)))"
   ]
  },
  {
   "cell_type": "markdown",
   "id": "3d99ad2c",
   "metadata": {},
   "source": [
    "#Palindrome"
   ]
  },
  {
   "cell_type": "code",
   "execution_count": 18,
   "id": "604de77a",
   "metadata": {},
   "outputs": [
    {
     "name": "stdout",
     "output_type": "stream",
     "text": [
      "Enter a string: basab\n",
      "Is Palindrome\n"
     ]
    }
   ],
   "source": [
    "def Palin(a):\n",
    "    return a == a[::-1]\n",
    "\n",
    "st = input(\"Enter a string: \")\n",
    "ans = Palin(st)\n",
    "\n",
    "if ans:\n",
    "    print(\"Is Palindrome\")\n",
    "else:\n",
    "    print(\"Not Palindrome\")"
   ]
  },
  {
   "cell_type": "code",
   "execution_count": 20,
   "id": "4dd3a472",
   "metadata": {},
   "outputs": [
    {
     "name": "stdout",
     "output_type": "stream",
     "text": [
      "3 4\n",
      "['3', '4']\n"
     ]
    }
   ],
   "source": [
    "a = input().split()\n",
    "print(a)"
   ]
  },
  {
   "cell_type": "code",
   "execution_count": 23,
   "id": "9a48bc81",
   "metadata": {},
   "outputs": [
    {
     "name": "stdout",
     "output_type": "stream",
     "text": [
      "4\n",
      "16\n"
     ]
    }
   ],
   "source": [
    "a = int(input())\n",
    "print(a*a)"
   ]
  },
  {
   "cell_type": "code",
   "execution_count": 4,
   "id": "cbad72d1",
   "metadata": {},
   "outputs": [
    {
     "name": "stdout",
     "output_type": "stream",
     "text": [
      "1\n",
      "1\n"
     ]
    }
   ],
   "source": [
    "str1 = int(input())\n",
    "print(str1)\n",
    "\n"
   ]
  },
  {
   "cell_type": "markdown",
   "id": "4e584f12",
   "metadata": {},
   "source": [
    "Array Playaround"
   ]
  },
  {
   "cell_type": "code",
   "execution_count": 10,
   "id": "44f184e3",
   "metadata": {},
   "outputs": [
    {
     "name": "stdout",
     "output_type": "stream",
     "text": [
      "1 2 3\n",
      "['1', '2', '3']\n"
     ]
    }
   ],
   "source": [
    "list1 = input().split() #split as space separated list elements\n",
    "print(list1)"
   ]
  },
  {
   "cell_type": "code",
   "execution_count": 17,
   "id": "bf08779a",
   "metadata": {},
   "outputs": [
    {
     "name": "stdout",
     "output_type": "stream",
     "text": [
      "1 2 3\n"
     ]
    },
    {
     "data": {
      "text/plain": [
       "[1, 2, 3]"
      ]
     },
     "execution_count": 17,
     "metadata": {},
     "output_type": "execute_result"
    }
   ],
   "source": [
    "list(map(int, input().split()))"
   ]
  },
  {
   "cell_type": "code",
   "execution_count": 22,
   "id": "09991516",
   "metadata": {},
   "outputs": [
    {
     "name": "stdout",
     "output_type": "stream",
     "text": [
      "1 2 3\n",
      "[1, 2, 3]\n"
     ]
    }
   ],
   "source": [
    "x = [int(i) for i in input().split()]\n",
    "print(x)"
   ]
  },
  {
   "cell_type": "code",
   "execution_count": 41,
   "id": "28744a30",
   "metadata": {},
   "outputs": [
    {
     "name": "stdout",
     "output_type": "stream",
     "text": [
      "3\n",
      "6 7 8\n",
      "[6, 7, 8]\n"
     ]
    }
   ],
   "source": [
    "n = int(input())\n",
    "x = [int(i) for i in input().split()][:n]\n",
    "print(x)"
   ]
  },
  {
   "cell_type": "markdown",
   "id": "023b824f",
   "metadata": {},
   "source": [
    "# HackerRank Algorithms - Warmup - Simple Array Sum"
   ]
  },
  {
   "cell_type": "markdown",
   "id": "34d3e911",
   "metadata": {},
   "source": [
    "Output Format\n",
    "Print the sum of the array's elements as a single integer.\n",
    "\n",
    "Sample Input\n",
    "6\n",
    "1 2 3 4 10 11\n",
    "\n",
    "Sample Output\n",
    "31"
   ]
  },
  {
   "cell_type": "code",
   "execution_count": 1,
   "id": "abed26cc",
   "metadata": {},
   "outputs": [
    {
     "name": "stdout",
     "output_type": "stream",
     "text": [
      "3\n",
      "4 5 6\n",
      "15\n"
     ]
    }
   ],
   "source": [
    "n = int(input())\n",
    "lst = [int(x) for x in input().split()][:n]\n",
    "print(sum(lst))"
   ]
  },
  {
   "cell_type": "code",
   "execution_count": 31,
   "id": "2af2c8eb",
   "metadata": {},
   "outputs": [
    {
     "name": "stdout",
     "output_type": "stream",
     "text": [
      "1 2 3\n",
      "[5, 10, 15]\n"
     ]
    }
   ],
   "source": [
    "import numpy as np\n",
    "\n",
    "list1 = list(map(int, input().split()))\n",
    "result = np.array(list1)*5\n",
    "print(list(result))"
   ]
  },
  {
   "cell_type": "code",
   "execution_count": 39,
   "id": "a56df32a",
   "metadata": {},
   "outputs": [
    {
     "name": "stdout",
     "output_type": "stream",
     "text": [
      "4 5 6 7\n",
      "4\n",
      "5\n"
     ]
    }
   ],
   "source": [
    "list3 = input().split()\n",
    "st1 = list3[0]\n",
    "st2 = list3[1]\n",
    "print(st1)\n",
    "print(st2)"
   ]
  },
  {
   "cell_type": "markdown",
   "id": "e4c587b6",
   "metadata": {},
   "source": [
    "Slicing List"
   ]
  },
  {
   "cell_type": "code",
   "execution_count": 40,
   "id": "61d73bd8",
   "metadata": {},
   "outputs": [
    {
     "name": "stdout",
     "output_type": "stream",
     "text": [
      "3 4 5 6 7 8\n",
      "['3', '4', '5']\n",
      "['6', '7', '8']\n"
     ]
    }
   ],
   "source": [
    "list4 = input().split()\n",
    "split1 = list4[:len(list4)//2]\n",
    "split2 = list4[len(list4)//2:]\n",
    "print(split1)\n",
    "print(split2)"
   ]
  },
  {
   "cell_type": "code",
   "execution_count": 46,
   "id": "b84e431b",
   "metadata": {},
   "outputs": [
    {
     "name": "stdout",
     "output_type": "stream",
     "text": [
      "3 4 5 6 7\n",
      "['4', '5', '6', '7']\n",
      "['3']\n",
      "4 5 6 7\n",
      "3\n"
     ]
    }
   ],
   "source": [
    "list5 = input().split()\n",
    "a= list5[1:]\n",
    "b= [list5[0]] #list integer to list, same as list(list5[0])\n",
    "print(a)\n",
    "print(b)\n",
    "print(*a)\n",
    "print(*b)\n"
   ]
  },
  {
   "cell_type": "code",
   "execution_count": 49,
   "id": "efc0d82b",
   "metadata": {},
   "outputs": [
    {
     "name": "stdout",
     "output_type": "stream",
     "text": [
      "3 4 5 6\n",
      "5 6\n",
      "3 4\n",
      "5 6 3 4\n"
     ]
    }
   ],
   "source": [
    "list5 = input().split()\n",
    "d = 2\n",
    "a= list5[d:]\n",
    "b= list5[:d] \n",
    "print(*a)\n",
    "print(*b)\n",
    "print (*(a+b))"
   ]
  },
  {
   "cell_type": "markdown",
   "id": "ab758d29",
   "metadata": {},
   "source": [
    "HackerRank d times left rotations\n",
    "d = 2\n",
    "[1,2,3,4] -> [2,3,4,1] -> [3,4,1,2]\n",
    "\n",
    "I/P\n",
    "5 2\n",
    "1 2 3 4 5\n",
    "\n",
    "O/P\n",
    "3 4 1 2"
   ]
  },
  {
   "cell_type": "code",
   "execution_count": 55,
   "id": "b4213533",
   "metadata": {},
   "outputs": [
    {
     "name": "stdout",
     "output_type": "stream",
     "text": [
      "5 2\n",
      "1 2 3 4 5\n",
      "3 4 5 1 2\n"
     ]
    }
   ],
   "source": [
    "def lft_rotation(a,d):\n",
    "    return (a[d:] + a[:d])\n",
    "\n",
    "if __name__ == '__main__':\n",
    "    first_multiple_input = input().rstrip().split()\n",
    "\n",
    "    n = int(first_multiple_input[0])\n",
    "\n",
    "    d = int(first_multiple_input[1])\n",
    "\n",
    "    a = list(map(int, input().rstrip().split()))\n",
    "    \n",
    "    print(*(lft_rotation(a, d)))"
   ]
  },
  {
   "cell_type": "markdown",
   "id": "ffd9da79",
   "metadata": {},
   "source": [
    "# Dictionary"
   ]
  },
  {
   "cell_type": "code",
   "execution_count": 3,
   "id": "c87ee889",
   "metadata": {},
   "outputs": [
    {
     "name": "stdout",
     "output_type": "stream",
     "text": [
      "{'goku': '01', 'trunks': '02'}\n"
     ]
    },
    {
     "data": {
      "text/plain": [
       "dict"
      ]
     },
     "execution_count": 3,
     "metadata": {},
     "output_type": "execute_result"
    }
   ],
   "source": [
    "my_dict = {'goku':'01', 'trunks':'02'}\n",
    "print(my_dict)\n",
    "type(my_dict)"
   ]
  },
  {
   "cell_type": "code",
   "execution_count": 4,
   "id": "b369ca0e",
   "metadata": {},
   "outputs": [
    {
     "name": "stdout",
     "output_type": "stream",
     "text": [
      "{}\n"
     ]
    },
    {
     "data": {
      "text/plain": [
       "dict"
      ]
     },
     "execution_count": 4,
     "metadata": {},
     "output_type": "execute_result"
    }
   ],
   "source": [
    "#Empty dict\n",
    "new_dict = dict()\n",
    "print(new_dict)\n",
    "type(new_dict)"
   ]
  },
  {
   "cell_type": "code",
   "execution_count": 5,
   "id": "5b51db9a",
   "metadata": {},
   "outputs": [
    {
     "name": "stdout",
     "output_type": "stream",
     "text": [
      "{'Dave': '03', 'Ava': '04'}\n"
     ]
    }
   ],
   "source": [
    "new_dict = dict(Dave='03', Ava='04')\n",
    "print(new_dict)"
   ]
  },
  {
   "cell_type": "markdown",
   "id": "c41eb42f",
   "metadata": {},
   "source": [
    "Nested Dictionary - Dictionary within dictionary"
   ]
  },
  {
   "cell_type": "code",
   "execution_count": 6,
   "id": "d0dc6a25",
   "metadata": {},
   "outputs": [
    {
     "name": "stdout",
     "output_type": "stream",
     "text": [
      "{'Employee': {'Goku': {'ID': '01', 'Salary': '2000', 'Designation': 'Team Lead'}, 'Ava': {'ID': '02', 'Salary': '1000', 'Designation': 'Associate'}}}\n"
     ]
    }
   ],
   "source": [
    "emp_details = {'Employee':{'Goku':{'ID':'01','Salary':'2000','Designation':'Team Lead'},\n",
    "                           'Ava':{'ID':'02','Salary':'1000','Designation':'Associate'}\n",
    "    \n",
    "}\n",
    "}\n",
    "print(emp_details)"
   ]
  },
  {
   "cell_type": "markdown",
   "id": "d69fc69d",
   "metadata": {},
   "source": [
    "# Accessing values"
   ]
  },
  {
   "cell_type": "code",
   "execution_count": 7,
   "id": "430dcd3c",
   "metadata": {
    "scrolled": true
   },
   "outputs": [
    {
     "name": "stdout",
     "output_type": "stream",
     "text": [
      "{'goku': '01', 'trunks': '02'}\n"
     ]
    }
   ],
   "source": [
    "print(my_dict)"
   ]
  },
  {
   "cell_type": "code",
   "execution_count": 8,
   "id": "0057247c",
   "metadata": {},
   "outputs": [
    {
     "name": "stdout",
     "output_type": "stream",
     "text": [
      "dict_keys(['goku', 'trunks'])\n"
     ]
    }
   ],
   "source": [
    "print(my_dict.keys())"
   ]
  },
  {
   "cell_type": "code",
   "execution_count": 9,
   "id": "134ea3eb",
   "metadata": {},
   "outputs": [
    {
     "name": "stdout",
     "output_type": "stream",
     "text": [
      "dict_values(['01', '02'])\n"
     ]
    }
   ],
   "source": [
    "print(my_dict.values())"
   ]
  },
  {
   "cell_type": "code",
   "execution_count": 10,
   "id": "45508c3f",
   "metadata": {},
   "outputs": [
    {
     "name": "stdout",
     "output_type": "stream",
     "text": [
      "01\n"
     ]
    }
   ],
   "source": [
    " print(my_dict.get('goku'))"
   ]
  },
  {
   "cell_type": "code",
   "execution_count": 11,
   "id": "365dbf7d",
   "metadata": {},
   "outputs": [
    {
     "name": "stdout",
     "output_type": "stream",
     "text": [
      "goku\n",
      "trunks\n"
     ]
    }
   ],
   "source": [
    "# Printing all keys in python list format\n",
    "for x in my_dict:\n",
    "    print(x)"
   ]
  },
  {
   "cell_type": "code",
   "execution_count": 12,
   "id": "636b86dc",
   "metadata": {},
   "outputs": [
    {
     "name": "stdout",
     "output_type": "stream",
     "text": [
      "01\n",
      "02\n"
     ]
    }
   ],
   "source": [
    "# Printing all values in python list format\n",
    "for x in my_dict.values():\n",
    "    print(x)"
   ]
  },
  {
   "cell_type": "code",
   "execution_count": 14,
   "id": "617248e2",
   "metadata": {},
   "outputs": [
    {
     "name": "stdout",
     "output_type": "stream",
     "text": [
      "goku 01\n",
      "trunks 02\n"
     ]
    }
   ],
   "source": [
    "# Printing all keys and values in python list format\n",
    "for x,y in my_dict.items():\n",
    "    print(x,y)"
   ]
  },
  {
   "cell_type": "markdown",
   "id": "02a35a70",
   "metadata": {},
   "source": [
    "Dictionaries are mutable data types, hence values can be changed"
   ]
  },
  {
   "cell_type": "markdown",
   "id": "b82fe288",
   "metadata": {},
   "source": [
    "# Updating"
   ]
  },
  {
   "cell_type": "code",
   "execution_count": 15,
   "id": "563c7e6b",
   "metadata": {},
   "outputs": [
    {
     "name": "stdout",
     "output_type": "stream",
     "text": [
      "{'goku': '01', 'trunks': '03', 'vegeta': '02'}\n"
     ]
    }
   ],
   "source": [
    "my_dict['trunks']='03' #Value changed\n",
    "my_dict['vegeta']='02' #New entry\n",
    "print(my_dict)"
   ]
  },
  {
   "cell_type": "markdown",
   "id": "c380ed83",
   "metadata": {},
   "source": [
    "# Deletion"
   ]
  },
  {
   "cell_type": "code",
   "execution_count": 16,
   "id": "f305579e",
   "metadata": {},
   "outputs": [
    {
     "data": {
      "text/plain": [
       "'01'"
      ]
     },
     "execution_count": 16,
     "metadata": {},
     "output_type": "execute_result"
    }
   ],
   "source": [
    "my_dict.pop('goku')"
   ]
  },
  {
   "cell_type": "code",
   "execution_count": 17,
   "id": "308f845d",
   "metadata": {},
   "outputs": [
    {
     "name": "stdout",
     "output_type": "stream",
     "text": [
      "{'trunks': '03', 'vegeta': '02'}\n"
     ]
    }
   ],
   "source": [
    "print(my_dict)"
   ]
  },
  {
   "cell_type": "code",
   "execution_count": 18,
   "id": "e1164155",
   "metadata": {},
   "outputs": [
    {
     "data": {
      "text/plain": [
       "('vegeta', '02')"
      ]
     },
     "execution_count": 18,
     "metadata": {},
     "output_type": "execute_result"
    }
   ],
   "source": [
    "my_dict.popitem() #Removes last entry of dictionary"
   ]
  },
  {
   "cell_type": "code",
   "execution_count": 19,
   "id": "f37b721f",
   "metadata": {},
   "outputs": [
    {
     "name": "stdout",
     "output_type": "stream",
     "text": [
      "{'trunks': '03'}\n"
     ]
    }
   ],
   "source": [
    "print(my_dict)"
   ]
  },
  {
   "cell_type": "code",
   "execution_count": 20,
   "id": "576adb07",
   "metadata": {},
   "outputs": [
    {
     "name": "stdout",
     "output_type": "stream",
     "text": [
      "{'trunks': '03', 'yamcha': '02'}\n"
     ]
    }
   ],
   "source": [
    "my_dict['yamcha']='02'\n",
    "print(my_dict)"
   ]
  },
  {
   "cell_type": "code",
   "execution_count": 22,
   "id": "1d62a641",
   "metadata": {},
   "outputs": [
    {
     "ename": "KeyError",
     "evalue": "'trunks'",
     "output_type": "error",
     "traceback": [
      "\u001b[1;31m---------------------------------------------------------------------------\u001b[0m",
      "\u001b[1;31mKeyError\u001b[0m                                  Traceback (most recent call last)",
      "\u001b[1;32m<ipython-input-22-6f4d3c39de58>\u001b[0m in \u001b[0;36m<module>\u001b[1;34m\u001b[0m\n\u001b[1;32m----> 1\u001b[1;33m \u001b[1;32mdel\u001b[0m \u001b[0mmy_dict\u001b[0m\u001b[1;33m[\u001b[0m\u001b[1;34m'trunks'\u001b[0m\u001b[1;33m]\u001b[0m\u001b[1;33m\u001b[0m\u001b[1;33m\u001b[0m\u001b[0m\n\u001b[0m\u001b[0;32m      2\u001b[0m \u001b[0mprint\u001b[0m\u001b[1;33m(\u001b[0m\u001b[0mmy_dict\u001b[0m\u001b[1;33m)\u001b[0m\u001b[1;33m\u001b[0m\u001b[1;33m\u001b[0m\u001b[0m\n",
      "\u001b[1;31mKeyError\u001b[0m: 'trunks'"
     ]
    }
   ],
   "source": [
    "del my_dict['trunks']\n"
   ]
  },
  {
   "cell_type": "code",
   "execution_count": 23,
   "id": "7d6863ae",
   "metadata": {},
   "outputs": [
    {
     "name": "stdout",
     "output_type": "stream",
     "text": [
      "{'yamcha': '02'}\n"
     ]
    }
   ],
   "source": [
    "print(my_dict)"
   ]
  },
  {
   "cell_type": "markdown",
   "id": "a1dd0b85",
   "metadata": {},
   "source": [
    "# Converting dictionary to a dataframe"
   ]
  },
  {
   "cell_type": "code",
   "execution_count": 24,
   "id": "f191d6b5",
   "metadata": {},
   "outputs": [
    {
     "name": "stdout",
     "output_type": "stream",
     "text": [
      "{'Employee': {'Goku': {'ID': '01', 'Salary': '2000', 'Designation': 'Team Lead'}, 'Ava': {'ID': '02', 'Salary': '1000', 'Designation': 'Associate'}}}\n"
     ]
    }
   ],
   "source": [
    "print(emp_details)"
   ]
  },
  {
   "cell_type": "code",
   "execution_count": 25,
   "id": "406443ce",
   "metadata": {},
   "outputs": [
    {
     "name": "stdout",
     "output_type": "stream",
     "text": [
      "                  Goku        Ava\n",
      "ID                  01         02\n",
      "Salary            2000       1000\n",
      "Designation  Team Lead  Associate\n"
     ]
    }
   ],
   "source": [
    "import pandas as pd\n",
    "df = pd.DataFrame(emp_details['Employee'])\n",
    "print(df)"
   ]
  },
  {
   "cell_type": "markdown",
   "id": "de683b4f",
   "metadata": {},
   "source": [
    "# Hackerrank Dictionaries and Hashmaps"
   ]
  },
  {
   "cell_type": "code",
   "execution_count": null,
   "id": "b43d649d",
   "metadata": {},
   "outputs": [],
   "source": []
  }
 ],
 "metadata": {
  "kernelspec": {
   "display_name": "Python 3",
   "language": "python",
   "name": "python3"
  },
  "language_info": {
   "codemirror_mode": {
    "name": "ipython",
    "version": 3
   },
   "file_extension": ".py",
   "mimetype": "text/x-python",
   "name": "python",
   "nbconvert_exporter": "python",
   "pygments_lexer": "ipython3",
   "version": "3.8.8"
  }
 },
 "nbformat": 4,
 "nbformat_minor": 5
}
